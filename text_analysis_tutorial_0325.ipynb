{
 "cells": [
  {
   "cell_type": "code",
   "execution_count": 1,
   "id": "d9c81de0",
   "metadata": {
    "ExecuteTime": {
     "end_time": "2024-04-01T08:33:46.724556Z",
     "start_time": "2024-04-01T08:33:44.767092Z"
    }
   },
   "outputs": [],
   "source": [
    "import pandas as pd\n",
    "import numpy as np\n",
    "import nltk\n",
    "import re\n",
    "import matplotlib.pyplot as plt\n",
    "from wordcloud import WordCloud\n",
    "from nltk.tokenize import TweetTokenizer\n",
    "from nltk.corpus import stopwords\n",
    "from nltk.stem import WordNetLemmatizer\n",
    "import jieba\n",
    "from sklearn.feature_extraction.text import CountVectorizer\n",
    "from sklearn.feature_extraction.text import TfidfVectorizer"
   ]
  },
  {
   "cell_type": "code",
   "execution_count": 2,
   "id": "80a1d134",
   "metadata": {
    "ExecuteTime": {
     "end_time": "2024-04-01T08:33:50.561411Z",
     "start_time": "2024-04-01T08:33:49.398493Z"
    }
   },
   "outputs": [],
   "source": [
    "df = pd.read_csv('./text_analysis_twitter.csv', index_col=0)"
   ]
  },
  {
   "cell_type": "code",
   "execution_count": 3,
   "id": "096faf4a",
   "metadata": {
    "ExecuteTime": {
     "end_time": "2024-04-01T08:33:52.466683Z",
     "start_time": "2024-04-01T08:33:52.445362Z"
    }
   },
   "outputs": [
    {
     "data": {
      "text/html": [
       "<div>\n",
       "<style scoped>\n",
       "    .dataframe tbody tr th:only-of-type {\n",
       "        vertical-align: middle;\n",
       "    }\n",
       "\n",
       "    .dataframe tbody tr th {\n",
       "        vertical-align: top;\n",
       "    }\n",
       "\n",
       "    .dataframe thead th {\n",
       "        text-align: right;\n",
       "    }\n",
       "</style>\n",
       "<table border=\"1\" class=\"dataframe\">\n",
       "  <thead>\n",
       "    <tr style=\"text-align: right;\">\n",
       "      <th></th>\n",
       "      <th>id</th>\n",
       "      <th>screen_name</th>\n",
       "      <th>time</th>\n",
       "      <th>link</th>\n",
       "      <th>text</th>\n",
       "      <th>source</th>\n",
       "    </tr>\n",
       "  </thead>\n",
       "  <tbody>\n",
       "    <tr>\n",
       "      <th>0</th>\n",
       "      <td>881004944714866688</td>\n",
       "      <td>KamalaHarris</td>\n",
       "      <td>2017-07-01T00:22:01-04:00</td>\n",
       "      <td>https://www.twitter.com/KamalaHarris/statuses/...</td>\n",
       "      <td>Republicans are trying to steal health care fr...</td>\n",
       "      <td>Sprout Social</td>\n",
       "    </tr>\n",
       "    <tr>\n",
       "      <th>1</th>\n",
       "      <td>881002538341986304</td>\n",
       "      <td>MarcVeasey</td>\n",
       "      <td>2017-07-01T00:12:28-04:00</td>\n",
       "      <td>https://www.twitter.com/kylegriffin1/statuses/...</td>\n",
       "      <td>RT @kylegriffin1 Rep. Mark Veasay has introduc...</td>\n",
       "      <td>Twitter for Android</td>\n",
       "    </tr>\n",
       "    <tr>\n",
       "      <th>2</th>\n",
       "      <td>881001393284419584</td>\n",
       "      <td>RepPaulTonko</td>\n",
       "      <td>2017-07-01T00:07:55-04:00</td>\n",
       "      <td>https://www.twitter.com/RepPaulTonko/statuses/...</td>\n",
       "      <td>A top U.S. science office went dark tonight. N...</td>\n",
       "      <td>Twitter for iPhone</td>\n",
       "    </tr>\n",
       "    <tr>\n",
       "      <th>3</th>\n",
       "      <td>881000301007958016</td>\n",
       "      <td>clairecmc</td>\n",
       "      <td>2017-07-01T00:03:34-04:00</td>\n",
       "      <td>https://www.twitter.com/clairecmc/statuses/881...</td>\n",
       "      <td>So the fundraising quarter ends in an hour in ...</td>\n",
       "      <td>Twitter for iPad</td>\n",
       "    </tr>\n",
       "    <tr>\n",
       "      <th>4</th>\n",
       "      <td>881015727540637696</td>\n",
       "      <td>tedcruz</td>\n",
       "      <td>2017-07-01T01:04:52-04:00</td>\n",
       "      <td>https://www.twitter.com/larry_kudlow/statuses/...</td>\n",
       "      <td>RT @larry_kudlow Important story @SenTedCruz @...</td>\n",
       "      <td>Twitter for iPhone</td>\n",
       "    </tr>\n",
       "    <tr>\n",
       "      <th>...</th>\n",
       "      <td>...</td>\n",
       "      <td>...</td>\n",
       "      <td>...</td>\n",
       "      <td>...</td>\n",
       "      <td>...</td>\n",
       "      <td>...</td>\n",
       "    </tr>\n",
       "    <tr>\n",
       "      <th>299995</th>\n",
       "      <td>939743413909549056</td>\n",
       "      <td>RepTedLieu</td>\n",
       "      <td>2017-12-10T01:27:44-05:00</td>\n",
       "      <td>https://www.twitter.com/ReadyLA/statuses/93956...</td>\n",
       "      <td>RT @ReadyLA REPORT FIRE DAMAGE from #CreekFire...</td>\n",
       "      <td>Twitter for iPhone</td>\n",
       "    </tr>\n",
       "    <tr>\n",
       "      <th>299996</th>\n",
       "      <td>939743003203301376</td>\n",
       "      <td>RepTedLieu</td>\n",
       "      <td>2017-12-10T01:26:06-05:00</td>\n",
       "      <td>https://www.twitter.com/LAFDtalk/statuses/9397...</td>\n",
       "      <td>RT @LAFDtalk Once a wildfire has burned throug...</td>\n",
       "      <td>Twitter for iPhone</td>\n",
       "    </tr>\n",
       "    <tr>\n",
       "      <th>299997</th>\n",
       "      <td>939741567706730497</td>\n",
       "      <td>JuliaBrownley26</td>\n",
       "      <td>2017-12-10T01:20:23-05:00</td>\n",
       "      <td>https://www.twitter.com/SCE/statuses/939739240...</td>\n",
       "      <td>RT @SCE Update: As of 8:30pm, Saturday, about ...</td>\n",
       "      <td>Twitter Web Client</td>\n",
       "    </tr>\n",
       "    <tr>\n",
       "      <th>299998</th>\n",
       "      <td>939739240501596160</td>\n",
       "      <td>SteveKnight25</td>\n",
       "      <td>2017-12-10T01:11:09-05:00</td>\n",
       "      <td>https://www.twitter.com/santaclarita/statuses/...</td>\n",
       "      <td>RT @santaclarita #RyeFire Evening Update (12/9...</td>\n",
       "      <td>Twitter for iPhone</td>\n",
       "    </tr>\n",
       "    <tr>\n",
       "      <th>299999</th>\n",
       "      <td>939737005180801024</td>\n",
       "      <td>RepJudyChu</td>\n",
       "      <td>2017-12-10T01:02:16-05:00</td>\n",
       "      <td>https://www.twitter.com/RepJudyChu/statuses/93...</td>\n",
       "      <td>So thankful for our hardworking firefighters. ...</td>\n",
       "      <td>Twitter for iPhone</td>\n",
       "    </tr>\n",
       "  </tbody>\n",
       "</table>\n",
       "<p>300000 rows × 6 columns</p>\n",
       "</div>"
      ],
      "text/plain": [
       "                        id      screen_name                       time  \\\n",
       "0       881004944714866688     KamalaHarris  2017-07-01T00:22:01-04:00   \n",
       "1       881002538341986304       MarcVeasey  2017-07-01T00:12:28-04:00   \n",
       "2       881001393284419584     RepPaulTonko  2017-07-01T00:07:55-04:00   \n",
       "3       881000301007958016        clairecmc  2017-07-01T00:03:34-04:00   \n",
       "4       881015727540637696          tedcruz  2017-07-01T01:04:52-04:00   \n",
       "...                    ...              ...                        ...   \n",
       "299995  939743413909549056       RepTedLieu  2017-12-10T01:27:44-05:00   \n",
       "299996  939743003203301376       RepTedLieu  2017-12-10T01:26:06-05:00   \n",
       "299997  939741567706730497  JuliaBrownley26  2017-12-10T01:20:23-05:00   \n",
       "299998  939739240501596160    SteveKnight25  2017-12-10T01:11:09-05:00   \n",
       "299999  939737005180801024       RepJudyChu  2017-12-10T01:02:16-05:00   \n",
       "\n",
       "                                                     link  \\\n",
       "0       https://www.twitter.com/KamalaHarris/statuses/...   \n",
       "1       https://www.twitter.com/kylegriffin1/statuses/...   \n",
       "2       https://www.twitter.com/RepPaulTonko/statuses/...   \n",
       "3       https://www.twitter.com/clairecmc/statuses/881...   \n",
       "4       https://www.twitter.com/larry_kudlow/statuses/...   \n",
       "...                                                   ...   \n",
       "299995  https://www.twitter.com/ReadyLA/statuses/93956...   \n",
       "299996  https://www.twitter.com/LAFDtalk/statuses/9397...   \n",
       "299997  https://www.twitter.com/SCE/statuses/939739240...   \n",
       "299998  https://www.twitter.com/santaclarita/statuses/...   \n",
       "299999  https://www.twitter.com/RepJudyChu/statuses/93...   \n",
       "\n",
       "                                                     text               source  \n",
       "0       Republicans are trying to steal health care fr...        Sprout Social  \n",
       "1       RT @kylegriffin1 Rep. Mark Veasay has introduc...  Twitter for Android  \n",
       "2       A top U.S. science office went dark tonight. N...   Twitter for iPhone  \n",
       "3       So the fundraising quarter ends in an hour in ...     Twitter for iPad  \n",
       "4       RT @larry_kudlow Important story @SenTedCruz @...   Twitter for iPhone  \n",
       "...                                                   ...                  ...  \n",
       "299995  RT @ReadyLA REPORT FIRE DAMAGE from #CreekFire...   Twitter for iPhone  \n",
       "299996  RT @LAFDtalk Once a wildfire has burned throug...   Twitter for iPhone  \n",
       "299997  RT @SCE Update: As of 8:30pm, Saturday, about ...   Twitter Web Client  \n",
       "299998  RT @santaclarita #RyeFire Evening Update (12/9...   Twitter for iPhone  \n",
       "299999  So thankful for our hardworking firefighters. ...   Twitter for iPhone  \n",
       "\n",
       "[300000 rows x 6 columns]"
      ]
     },
     "execution_count": 3,
     "metadata": {},
     "output_type": "execute_result"
    }
   ],
   "source": [
    "df"
   ]
  },
  {
   "cell_type": "code",
   "execution_count": 4,
   "id": "83bf46e9",
   "metadata": {
    "ExecuteTime": {
     "end_time": "2024-04-01T08:33:55.225516Z",
     "start_time": "2024-04-01T08:33:55.218182Z"
    }
   },
   "outputs": [
    {
     "data": {
      "text/plain": [
       "'Republicans are trying to steal health care from 22 million people in order to help the wealthiest 0.4%.RT @kylegriffin1 Rep. Mark Veasay has introduced a bill to ensure no taxpayer funds will be used to support Trump\\'s Election Commission. http://pbs.twimg.com/media/DDm3PgaXcAAFBIo.jpgA top U.S. science office went dark tonight. Not good. #sciencematters https://twitter.com/elleabella1112/status/880870684485984256 QT @elleabella1112 science division out. mic drop. http://pbs.twimg.com/media/DDl7NT9XoAEeJxb.jpgSo the fundraising quarter ends in an hour in MO. I would really appreciate a $5 contribution. Thank you so much. http://clairemccaskill.com/donateRT @larry_kudlow Important story @SenTedCruz @NRO. http://www.nationalreview.com/article/449134/ted-cruz-conservative-health-care-proposal?utm_campaign=trueanthem&utm_content=595717ee04d3010ccd0c715e&utm_medium=social&utm_source=twitterThreats already higher than all of 2016!  Resist! http://thehill.com/homenews/house/340309-threats-against-lawmakers-spiked-this-yearHappy birthday @SenJoniErnst!Read @RepLouCorrea article on one of California\\'s finest officers \"Achieving The American Dream\" https://medium.com/congressman-lou-correa/achieving-the-american-dream-1fb26950da7d #HereToStayRT @airandspace 41 years ago today, the official ribbon cutting at our Museum in DC was triggered by a spacecraft orbiting Mars! http://pbs.twimg.com/media/DDpVB1xXoAA3zHZ.jpgGreat job Daylen! #littleleague #Baseball #esva https://twitter.com/13newsnow/status/881113918986489857 QT @13NewsNow Eastern Shore Little League player invited to national MLB event http://bit.ly/2tvcp5K http://pbs.twimg.com/media/DDpYcEkWAAIwrcA.jpgJohn 14:6 Jesus said to him, \"I am the way, and the truth, and the life; no one comes to the Father but through Me.\"RT @mattmaestas Inspired by @BenSasse today begins our 2nd Annual #pushupjuly 10,000 pushups in a month. Join the fun here https://www.facebook.com/pushupjuly2017/get \\'er done. https://twitter.com/mattmaestas/status/881108201403535360 QT @mattmaestas Inspired by @BenSasse today begins our 2nd Annual #pushupjuly 10,000 pushups in a month. Join the fun here https://www.facebook.com/pushupjuly2017/top o\\' the morning to you as well https://twitter.com/GrizzlyHolden/status/881081323288313856 QT @GrizzlyHolden @BenSasse  http://pbs.twimg.com/tweet_video_thumb/DDo6yT_V0AAnHb4.jpg https://video.twimg.com/tweet_video/DDo6yT_V0AAnHb4.mp4TMI https://twitter.com/guyindelco/status/881092215799414784 QT @guyindelco @BenSasse I always get the pork chops for breakfast at Cracker Barrel....b/c when we people disagree about policy, the winning move is to call them monsters &amp; scream the other side\\'s goal is to kill people... https://twitter.com/PalmerReport/status/880949703122309122 QT @PalmerReport For those of you who thought Ben Sasse wasn\\'t a monster... https://twitter.com/BenSasse/status/880745889266106368Join with me and tell @SOSCegavske to protect our information from Trump and his insecurities.  https://www.usnews.com/news/best-states/nevada/articles/2017-06-30/nevada-to-provide-public-data-comply-with-voter-fraud-probe?src=usn_twreally good on dialogue and listening by @timkellernyc https://twitter.com/BenSasse/status/881109096140873730 QT @BenSasse \"we shouldn\\'t talk until we can represent the skeptic’s viewpoint with empathy so he says, ‘Yes, that\\'s my hang up\\'\"\\nhttp://www.christianitytoday.com/ct/2017/june/why-we-argue-best-with-our-mouths-shut.html\"we shouldn\\'t talk until we can represent the skeptic’s viewpoint with empathy so he says, ‘Yes, that\\'s my hang up\\'\"\\nhttp://www.christianitytoday.com/ct/2017/june/why-we-argue-best-with-our-mouths-shut.htmlamazing story / kid / family https://twitter.com/BenSasse/status/881106096081051650 QT @BenSasse “He didn’t complain abt having cancer” his dad said. “He was thankful for having it so he could reach out to others\"\\nhttp://www.omaha.com/livewellnebraska/recent-grad-simon-jones-who-wrote-blog-about-his-cancer/article_af419fea-9098-59f3-adb8-e4cebc0ed041.html“He didn’t complain abt having cancer” his dad said. “He was thankful for having it so he could reach out to others\"\\nhttp://www.omaha.com/livewellnebraska/recent-grad-simon-jones-who-wrote-blog-about-his-cancer/article_af419fea-9098-59f3-adb8-e4cebc0ed041.htmlCongress must stand for voter rights and not allow the Trump administration to enact policies that will purge voter rolls. #VoterSuppressionRT @thehill Science division of White House office no longer has employees: report http://hill.cm/qx1OKPs http://pbs.twimg.com/media/DDpC7fnXsAAnrXr.jpgI\\'m listening to a heated 6-yr-old argument about which color everyone hates.\\n\\n(apparently it\\'s GREEN)I\\'m pleased Secretary Mattis decided to delay @DeptofDefense accession policy. This costly policy was rushed &amp; hurts #readinessI\\'ll be on @CNN at 9am RT to discuss #TrumpcareEnjoy while it lasts @Yg_Trece will break your heart but youre used to it in OKC. @VicOladipo + @Original_Turner era in Indy could be potent https://twitter.com/okcpd/status/880984935473053696 QT @OKCPD Thanks for the tweets reporting the \"theft\" of Paul George by @okcthunder. \\n\\nOur investigative findings: totally legal &amp; very savvy.Great to see Brody Jenkins &amp; his parents Danel &amp; Sharon of Deer Park, TX. Brody just started at @NavalAcademy. Proud to have nominated him. http://pbs.twimg.com/media/DDpofAJXsAABjP5.jpgWeekly Column ✍️: \\nThe House Acts to Curb #SanctuaryCity Policies https://goodlatte.house.gov/news/documentsingle.aspx?DocumentID=925 #KatesLaw#Trumpcare breaks every health care promise the President made to the American people.\\nhttp://www.washingtonpost.com/news/wonk/wp/2017/06/30/trump-loves-the-senate-health-care-plan-it-would-break-all-of-his-promises/RT @GarrettVentry Me when it\\'s free @ChickfilA day. http://pbs.twimg.com/media/DDmKoxaXcAERMLH.jpgRT @wisgop .@SenatorBaldwin\\'s Tomah VA scandal keeps getting deeper.  Learn more here: http://bit.ly/2sjhf1e http://pbs.twimg.com/media/DDmmAc_XcAEQ_lk.jpgSenate Intel putting Russia probe on fast track http://politi.co/2smXy9aRT @Fusion Rep. Luis Gutierrez of Illinois slams Trump\\'s new immigration bills that would crack down on \"sanctuary cities.\" http://pbs.twimg.com/amplify_video_thumb/880495002706739200/img/FPyaLJUALGLdD1Bt.jpg https://video.twimg.com/amplify_video/880495002706739200/vid/480x480/1DVw9_JCgJ_qBZHB.mp479 cosponsors so far for HR 2909 - DC Personal Protection Reciprocity Act. Need to send to @realDonaldTrump \\'s desk! https://www.congress.gov/bill/115th-congress/house-bill/2909/cosponsors?q=%7B%22search%22%3A%5B%222909%22%5D%7D&r=3Protecting America’s borders – House passed Kate’s Law as well as No\\u200b \\u200bSanctuary for Criminals Act … Make America Safe Again!RT @thehill Mississippi to Trump voter fraud commission: \"Go jump in the Gulf of Mexico\" http://hill.cm/ytuVln5 http://pbs.twimg.com/media/DDpdQTWXcAAXsi4.jpgPlease direct \\'thank-yous\\' to Minnesota Secretary of State; Refuses to give info to Trump\\'s voter Suppression panel http://m.startribune.com/minnesota-secretary-of-state-won-t-supply-voter-information-to-trump-s-panel/431888833/Want to receive updates on the budget? Sign up here: http://bit.ly/2tyKnHhThank you to the thousands and thousands of people that helped make our fundraising this quarter so strong. I\\'m very grateful.\"They can go jump in the Gulf of Mexico\" - Mississippi Secretary of State Delbert Hosemann, on your attempts to violate Americans\\' privacy. https://twitter.com/realdonaldtrump/status/881137079958241280 QT @realDonaldTrump Numerous states are refusing to give information to the very distinguished VOTER FRAUD PANEL. What are they trying to hide?Russian radio takes over local DC station http://thehill.com/homenews/media/340292-russian-radio-takes-over-local-dc-station#.WVefz59PSuI.twitterNo one should have to choose btwn child care + doctor visits. But that\\'s the kind of impossible choice #Trumpcare will force on families. http://pbs.twimg.com/media/DDpuuO1XYAI8_w0.jpg https://video.twimg.com/amplify_video/880931659230707712/pl/iUEO1k_Yq5BPggtQ.m3u8ICYMI: announced new funding to support our local fire departments in five WV counties. Learn more here: http://bit.ly/2spN2m6Richard form my district says \"Obamacare saved my life.\" This is his story http://pbs.twimg.com/media/DDmCzN5XgAAfBIS.jpgRT @colo_politics Should they? H/t @RepKenBuck #copolitics #coleg https://coloradopolitics.com/ken-buck-joins-republican-colleagues-urging-leadership-cancel-august-recess/RT @denverpost .@RepKenBuck: “If we can’t get our work done, we shouldn’t be going on recess.\" #copolitics http://dpo.st/2saCpztRepublicans claiming that their health care bill doesn\\'t cut Medicaid—drastically—are lying. #ProtectOurCare http://wapo.st/2upi36u?tid=ss_tw&utm_term=.34ea65c05a90Thanks to the @OWHnews for highlighting this new law important to #agriculture and food security http://www.omaha.com/money/trump-signs-bill-introduced-by-david-young-to-fight-agro/article_e5a9de5a-9e4d-5ce0-9f40-52fcbce62656.html #IA03An important piece to our bold agenda is public safety. We are grateful for the passage of No Sanctuary for Criminals Act and #KatesLaw. http://pbs.twimg.com/amplify_video_thumb/879790115836579844/img/0wsO6c8GaFjWYfcB.jpg https://video.twimg.com/amplify_video/879790115836579844/vid/320x180/d3DoPuGP3BOHmbGO.mp4How are you celebrating the 4th of July? Join me at the Montgomery Village Parade. 🎆Sign up!🎆https://www.eventbrite.com/e/john-congressman-delaney-at-the-montgomery-village-fourth-of-july-parade-tickets-35739764598WATCH: @CecileRichards explains the devastating impact #Trumpcare will have on vulnerable families https://twitter.com/nowthisnews/status/880454069957021696 QT @nowthisnews Here\\'s how badly women will suffer if the Senate health care bill defunds Planned Parenthood.\\n\\nAn op-ed from Cecile Richards: http://pbs.twimg.com/media/DDf8GcqXsAEZSg8.jpg https://video.twimg.com/amplify_video/880448540929122304/vid/640x360/YmnJJKMT7zGwM_TP.mp4ICYMI: We made ourselves heard on the Senate steps this week. An honor to be part of the moment. http://cnn.it/2s98JmxFrom #medicalmalpractice and #immigration to #cybersecurity and #healthcare, updates are included in my e-newsletter https://lynch.house.gov/congressman-lynchs-lunch-bucket-bulletin-63017On the 1st day of recreational sales, be responsible, be safe, &amp; be aware that Congress must puff,puff, pass bills to protect the industry. http://pbs.twimg.com/ext_tw_video_thumb/881149165971156992/pu/img/VOYovqnVKKzW8sUT.jpg https://video.twimg.com/ext_tw_video/881149165971156992/pu/vid/1280x720/_KAIsQd2cdnnEBsd.mp4#ICYMI: Joe spoke on the Senate floor about how this #healthcare debate is first and foremost about people &amp; families. http://pbs.twimg.com/amplify_video_thumb/880934540742725632/img/kqzEIo5A7hrR6cMV.jpg https://video.twimg.com/amplify_video/880934540742725632/vid/1280x720/Kzc6uStSOiknn0Fx.mp4Today we celebrate the 46th anniversary of ratification of the 26th Amendment and the crucial expansion of voting right for young adults.Not only would #Trumpcare rip health care from 22 million Americans – it is also a job killer.\\nhttps://www.vice.com/en_us/article/d38zza/the-healthcare-bill-is-a-job-killer-tooHappy 84th birthday to @OCWDWaterNews &amp; thanks for your unsung work that ensures #CA45 has clean drinking water.  https://www.ocwd.com/news-events/newsletter/2017/june-2017/ocwd-celebrates-84th-anniversary/Committee passage of the Resilient Federal Forests Act, a new leadership role, and more in this week\\'s eNewsletter: https://iqconnect.lmhostediq.com/iqextranet/view_newsletter.aspx?id=103177&c=AR04BWICYMI: https://twitter.com/RepCuellar/status/879795285844742146 QT @RepCuellar Apprenticeships, technical education, removing anti-entrepreneur regulations -- that\\'s how I promote jobs in #TX28. https://cuellar.house.gov/news/documentsingle.aspx?DocumentID=401353Watch this week\\'s #FL18 #WeekInReview video to hear about 2 bills we passed to crack down on sanctuary cities: https://www.youtube.com/watch?v=oiVHwVpafJ4The @SenateGOP Obamacare repeal would be bad news for Connecticut. You can see the numbers for yourself here:\\nhttps://www.washingtonpost.com/graphics/2017/politics/obamacare-repeal-coverage-loss/?hpid=hp_hp-top-table-main_graphic-945a%3Ahomepage%2Fstory&utm_term=.b70fe5fe068a#9Kudos to 20+ states refusing to bow down to Orwellian \"Election Integrity\" panel uninterested in Putin\\'s efforts to hack state election sys.RT @BernieSanders Remember this is the wealthiest country in history. We should not have children in poverty. We should not have people without health care.Trump\\'s Orwellian \"Presidential Advisory Commission on Election Integrity\" is packed with purveyors of voter fraud myth.Studies show that 84% of Americans want to expand Medicaid. Trump and McConnell want to cut it by $2.4 trillion. http://pbs.twimg.com/media/DDmTmUlXYAAiFhv.pngAmerica doesn\\'t trust opponents of the Voting Rights Act w/ a national registry of all of our voter data and protected personal information.Wishing everyone a happy and safe Independence Day weekend! What are some of your favorite July 4th traditions?To protect the vote, end gerrymandering and pass The Fair Representation Act. Voters should pick representatives, not the other way around.Ways to improve elections: renew Voting Rights Act, pass a constitutional amendment to secure right to vote for ex-prisoners, ppl in DC &amp; PRJack Vastag &amp; Abigail VanMeter from @NoblesvilleIN HS place in Top5 at the National Speech Finals. Congrats! More &gt;&gt; http://thetimes24-7.com/main.asp?SectionID=1&SubSectionID=1&ArticleID=55495#BTS Stay tuned for our next scribe video. Hint: it\\'s about my big idea to reform our elections and partisan politics ✍️ http://pbs.twimg.com/media/DDmCRurXoAMcFpM.jpgStaff attended Casa San Carlo\\'s #Veterans ceremony to present them w/ a flag flown over the Capitol &amp; share our gratitude for their service http://pbs.twimg.com/media/DDp0qLDXgAAioXb.jpgHow many states did you contact about Russian attacks on our elections? \\n\\n\"Trump’s Dangerous Indifference to Russia\"\\nhttps://mobile.nytimes.com/2017/06/17/opinion/mr-trumps-dangerous-indifference-to-russia.amp.htmlIf you\\'re looking for evidence of voter fraud, why do you need party ID? Seems weird.RT @JasonKander President who won\\'t release his tax returns wants to publish every registered voter\\'s social security number, DOB, and party affiliation. https://twitter.com/realdonaldtrump/status/881137079958241280Happy Canada Day! http://pbs.twimg.com/tweet_video_thumb/DDpzZHrWsAEnoWW.jpg https://video.twimg.com/tweet_video/DDpzZHrWsAEnoWW.mp4They\\'re protecting voter information and privacy rights from an Orwellian federal government repository and an easy hack by Vlad Putin.They\\'re protecting the privacy rights of tens of millions of Americans. I thought you wanted to give power back to the states &amp; the people? https://twitter.com/realdonaldtrump/status/881137079958241280 QT @realDonaldTrump Numerous states are refusing to give information to the very distinguished VOTER FRAUD PANEL. What are they trying to hide?Hatch and @OURrescue\\'s @TimBBallard: We are working to end the modern-day slave trade. #utpol #EndTrafficking  http://www.sltrib.com/opinion/5454049-155/hatch-and-ballard-we-are-workingAnti-Science know-nothingism spreads at the heart of the Trump administration.\\n#EPA #NIH #NOAA https://twitter.com/TPM/status/881164624657362946 QT @TPM Report: No staff members left in science division of White House office http://bit.ly/2tBcxkG http://pbs.twimg.com/media/DDqGjiZXsAA2T8Y.jpgWhere Republicans go this recess, our NEW geo-targeted ads attacking them for #Trumpcare will follow http://bit.ly/2u8fDtEGreat to be in Marinette today for the christening and launch of the newest #MadeInWI #LittoralCombatShip, the USS Billings! http://pbs.twimg.com/media/DDkdAT2UQAA98KI.jpgWomen are underrepresented in #STEM jobs. My new legislation seeks to close this disparity and change this→ http://bit.ly/2tsaaAg http://pbs.twimg.com/media/DDmA8YAXgAASSnz.jpgUnder #Trumpcare, Colorado would lose 55,989 jobs by 2022. #ProtectOurCare http://pbs.twimg.com/media/DDmEmJ-XYAInISY.jpgClimate change goes beyond just changing weather patterns. It will have serious economic &amp; social impacts as well. http://wnpr.org/post/mapping-potential-economic-effects-climate-changeAs we head into the weekend, don’t forget to snap your best firework photo! Tag us in your photo to be entered into our contest! http://pbs.twimg.com/media/DDqHTUDXoAMTLS_.jpgWe have to promote diversity @StateDept. Glad to fight for these programs with @OfficialCBC. https://nyti.ms/2tvygK1In case you missed it, Senator Tim Scott and I introduced legislation this past Wednesday on Carolina Day to... http://fb.me/24x8Uj3wLIgnoring basic economic principles put us into the ditch, we shouldn\\'t repeat the same mistakes.  http://www.wnd.com/2017/06/dave-brat-1st-part-of-fix-is-obamacare-repeal/Who did @POTUS @realDonaldTrump put in charge of this voter suppression commission? This guy 😡 https://twitter.com/nytimes/status/876626762280652800 QT @nytimes The man behind President Trump’s voter fraud obsession http://nyti.ms/2syDkNi http://pbs.twimg.com/media/DCpnZLJUQAAkStr.jpgPowerful message on why we need to #SaveMedicaid: “Without Medicaid I would be dead.” https://youtu.be/e8pU2oc7bfoTeam Messer visited with the Putnam County GOP at their monthly meeting this morning. http://pbs.twimg.com/media/DDqFi-fXsAEFOXc.jpg http://pbs.twimg.com/media/DDqFi-iXgAE_hUK.jpgDelayed vote on #Trumpcare means it’s more important than ever to make your voice heard! Sign on now: http://www.donaldnorcrossforcongress.com/trumpcare_terribleThank you to @ILSenateGOP leader Christine Radogno for your years of dedicated service to #IL families. Best wishes in all that comes next.RT @LGBTEqCaucus There is no evidence-based reason to exclude #transgender people from serving their country. They have waited long enough. #TransServiceNow https://twitter.com/CNN/status/881004438210662400RT @CNNnewsroom During Putin/Trump mtg, Rep @GregoryMeeks says they must address \"Russia\\'s intrusion into our democratic process\" http://snpy.tv/2tverTwRT @VermontTourism #Vermont Senator @SenatorLeahy shares the importance of our friendship and collaboration with #Canada. Happy #CanadaDay #Canada150 http://pbs.twimg.com/ext_tw_video_thumb/881153702933016576/pu/img/SwheHS2Zfv_NrQcC.jpg https://video.twimg.com/ext_tw_video/881153702933016576/pu/vid/640x360/CgzwTK0TQNqp5M4H.mp4\"Be courteous to all\"-Washington\\n\"With malice towards none\"-Lincoln\\n\"Love generously, care deeply, speak kindly\"-Reagan\\nOur current Pres.: https://twitter.com/realDonaldTrump/status/881140479454310401 QT @realDonaldTrump Crazy Joe Scarborough and dumb as a rock Mika are not bad people, but their low rated show is dominated by their NBC bosses. Too bad!'"
      ]
     },
     "execution_count": 4,
     "metadata": {},
     "output_type": "execute_result"
    }
   ],
   "source": [
    "df.text[:100].sum()"
   ]
  },
  {
   "cell_type": "code",
   "execution_count": 5,
   "id": "f4a3b09b",
   "metadata": {
    "ExecuteTime": {
     "end_time": "2024-04-01T08:33:59.234432Z",
     "start_time": "2024-04-01T08:33:58.341351Z"
    }
   },
   "outputs": [
    {
     "name": "stderr",
     "output_type": "stream",
     "text": [
      "[nltk_data] Downloading package omw-1.4 to\n",
      "[nltk_data]     /Users/fanhongrui/nltk_data...\n",
      "[nltk_data]   Package omw-1.4 is already up-to-date!\n",
      "[nltk_data] Downloading package wordnet to\n",
      "[nltk_data]     /Users/fanhongrui/nltk_data...\n",
      "[nltk_data]   Package wordnet is already up-to-date!\n",
      "[nltk_data] Downloading package stopwords to\n",
      "[nltk_data]     /Users/fanhongrui/nltk_data...\n",
      "[nltk_data]   Package stopwords is already up-to-date!\n"
     ]
    }
   ],
   "source": [
    "tokenizer = TweetTokenizer()\n",
    "lemmatizer = WordNetLemmatizer()\n",
    "\n",
    "nltk.download('omw-1.4')\n",
    "nltk.download('wordnet')\n",
    "nltk.download('stopwords')\n",
    "stop_words = set(stopwords.words('english'))"
   ]
  },
  {
   "cell_type": "code",
   "execution_count": 6,
   "id": "ecb032f5",
   "metadata": {
    "ExecuteTime": {
     "end_time": "2024-04-01T08:34:31.578276Z",
     "start_time": "2024-04-01T08:34:31.574322Z"
    }
   },
   "outputs": [],
   "source": [
    "def preprocess_text(text):\n",
    "    text = text.lower()\n",
    "    text = re.sub(r'http\\S+','',text)\n",
    "    tokens = tokenizer.tokenize(text)\n",
    "    tokens = [lemmatizer.lemmatize(token) for token in tokens if token.isalpha() and token != 'rt' and token not in stop_words]\n",
    "    return tokens"
   ]
  },
  {
   "cell_type": "code",
   "execution_count": 7,
   "id": "696bf0ad",
   "metadata": {
    "ExecuteTime": {
     "end_time": "2024-04-01T08:35:02.418520Z",
     "start_time": "2024-04-01T08:34:37.435597Z"
    }
   },
   "outputs": [],
   "source": [
    "df['preprocessed_text'] = df['text'].apply(preprocess_text)"
   ]
  },
  {
   "cell_type": "code",
   "execution_count": 8,
   "id": "ffaa91c0",
   "metadata": {
    "ExecuteTime": {
     "end_time": "2024-04-01T08:35:04.632092Z",
     "start_time": "2024-04-01T08:35:04.615278Z"
    }
   },
   "outputs": [
    {
     "data": {
      "text/html": [
       "<div>\n",
       "<style scoped>\n",
       "    .dataframe tbody tr th:only-of-type {\n",
       "        vertical-align: middle;\n",
       "    }\n",
       "\n",
       "    .dataframe tbody tr th {\n",
       "        vertical-align: top;\n",
       "    }\n",
       "\n",
       "    .dataframe thead th {\n",
       "        text-align: right;\n",
       "    }\n",
       "</style>\n",
       "<table border=\"1\" class=\"dataframe\">\n",
       "  <thead>\n",
       "    <tr style=\"text-align: right;\">\n",
       "      <th></th>\n",
       "      <th>id</th>\n",
       "      <th>screen_name</th>\n",
       "      <th>time</th>\n",
       "      <th>link</th>\n",
       "      <th>text</th>\n",
       "      <th>source</th>\n",
       "      <th>preprocessed_text</th>\n",
       "    </tr>\n",
       "  </thead>\n",
       "  <tbody>\n",
       "    <tr>\n",
       "      <th>0</th>\n",
       "      <td>881004944714866688</td>\n",
       "      <td>KamalaHarris</td>\n",
       "      <td>2017-07-01T00:22:01-04:00</td>\n",
       "      <td>https://www.twitter.com/KamalaHarris/statuses/...</td>\n",
       "      <td>Republicans are trying to steal health care fr...</td>\n",
       "      <td>Sprout Social</td>\n",
       "      <td>[republican, trying, steal, health, care, mill...</td>\n",
       "    </tr>\n",
       "    <tr>\n",
       "      <th>1</th>\n",
       "      <td>881002538341986304</td>\n",
       "      <td>MarcVeasey</td>\n",
       "      <td>2017-07-01T00:12:28-04:00</td>\n",
       "      <td>https://www.twitter.com/kylegriffin1/statuses/...</td>\n",
       "      <td>RT @kylegriffin1 Rep. Mark Veasay has introduc...</td>\n",
       "      <td>Twitter for Android</td>\n",
       "      <td>[rep, mark, veasay, introduced, bill, ensure, ...</td>\n",
       "    </tr>\n",
       "    <tr>\n",
       "      <th>2</th>\n",
       "      <td>881001393284419584</td>\n",
       "      <td>RepPaulTonko</td>\n",
       "      <td>2017-07-01T00:07:55-04:00</td>\n",
       "      <td>https://www.twitter.com/RepPaulTonko/statuses/...</td>\n",
       "      <td>A top U.S. science office went dark tonight. N...</td>\n",
       "      <td>Twitter for iPhone</td>\n",
       "      <td>[top, u, science, office, went, dark, tonight,...</td>\n",
       "    </tr>\n",
       "    <tr>\n",
       "      <th>3</th>\n",
       "      <td>881000301007958016</td>\n",
       "      <td>clairecmc</td>\n",
       "      <td>2017-07-01T00:03:34-04:00</td>\n",
       "      <td>https://www.twitter.com/clairecmc/statuses/881...</td>\n",
       "      <td>So the fundraising quarter ends in an hour in ...</td>\n",
       "      <td>Twitter for iPad</td>\n",
       "      <td>[fundraising, quarter, end, hour, mo, would, r...</td>\n",
       "    </tr>\n",
       "    <tr>\n",
       "      <th>4</th>\n",
       "      <td>881015727540637696</td>\n",
       "      <td>tedcruz</td>\n",
       "      <td>2017-07-01T01:04:52-04:00</td>\n",
       "      <td>https://www.twitter.com/larry_kudlow/statuses/...</td>\n",
       "      <td>RT @larry_kudlow Important story @SenTedCruz @...</td>\n",
       "      <td>Twitter for iPhone</td>\n",
       "      <td>[important, story]</td>\n",
       "    </tr>\n",
       "  </tbody>\n",
       "</table>\n",
       "</div>"
      ],
      "text/plain": [
       "                   id   screen_name                       time  \\\n",
       "0  881004944714866688  KamalaHarris  2017-07-01T00:22:01-04:00   \n",
       "1  881002538341986304    MarcVeasey  2017-07-01T00:12:28-04:00   \n",
       "2  881001393284419584  RepPaulTonko  2017-07-01T00:07:55-04:00   \n",
       "3  881000301007958016     clairecmc  2017-07-01T00:03:34-04:00   \n",
       "4  881015727540637696       tedcruz  2017-07-01T01:04:52-04:00   \n",
       "\n",
       "                                                link  \\\n",
       "0  https://www.twitter.com/KamalaHarris/statuses/...   \n",
       "1  https://www.twitter.com/kylegriffin1/statuses/...   \n",
       "2  https://www.twitter.com/RepPaulTonko/statuses/...   \n",
       "3  https://www.twitter.com/clairecmc/statuses/881...   \n",
       "4  https://www.twitter.com/larry_kudlow/statuses/...   \n",
       "\n",
       "                                                text               source  \\\n",
       "0  Republicans are trying to steal health care fr...        Sprout Social   \n",
       "1  RT @kylegriffin1 Rep. Mark Veasay has introduc...  Twitter for Android   \n",
       "2  A top U.S. science office went dark tonight. N...   Twitter for iPhone   \n",
       "3  So the fundraising quarter ends in an hour in ...     Twitter for iPad   \n",
       "4  RT @larry_kudlow Important story @SenTedCruz @...   Twitter for iPhone   \n",
       "\n",
       "                                   preprocessed_text  \n",
       "0  [republican, trying, steal, health, care, mill...  \n",
       "1  [rep, mark, veasay, introduced, bill, ensure, ...  \n",
       "2  [top, u, science, office, went, dark, tonight,...  \n",
       "3  [fundraising, quarter, end, hour, mo, would, r...  \n",
       "4                                 [important, story]  "
      ]
     },
     "execution_count": 8,
     "metadata": {},
     "output_type": "execute_result"
    }
   ],
   "source": [
    "df.head()"
   ]
  },
  {
   "cell_type": "code",
   "execution_count": 9,
   "id": "05215c7a",
   "metadata": {
    "ExecuteTime": {
     "end_time": "2024-04-01T08:35:49.356807Z",
     "start_time": "2024-04-01T08:35:47.733854Z"
    },
    "scrolled": true
   },
   "outputs": [],
   "source": [
    "vectorizer = CountVectorizer()\n",
    "X = vectorizer.fit_transform(df['preprocessed_text'].apply(lambda x:str(x)))"
   ]
  },
  {
   "cell_type": "code",
   "execution_count": 10,
   "id": "c7ab6113",
   "metadata": {
    "ExecuteTime": {
     "end_time": "2024-04-01T08:35:50.970364Z",
     "start_time": "2024-04-01T08:35:50.964806Z"
    }
   },
   "outputs": [
    {
     "data": {
      "text/plain": [
       "(300000, 50343)"
      ]
     },
     "execution_count": 10,
     "metadata": {},
     "output_type": "execute_result"
    }
   ],
   "source": [
    "X.shape"
   ]
  },
  {
   "cell_type": "code",
   "execution_count": 11,
   "id": "973407f1",
   "metadata": {
    "ExecuteTime": {
     "end_time": "2024-04-01T08:35:53.162154Z",
     "start_time": "2024-04-01T08:35:53.126362Z"
    },
    "scrolled": true
   },
   "outputs": [
    {
     "data": {
      "text/plain": [
       "array(['aa', 'aaa', 'aaaa', ..., '투표하십시오', '한국어', 'ﬂees'], dtype=object)"
      ]
     },
     "execution_count": 11,
     "metadata": {},
     "output_type": "execute_result"
    }
   ],
   "source": [
    "vectorizer.get_feature_names_out()"
   ]
  }
 ],
 "metadata": {
  "kernelspec": {
   "display_name": "Python 3 (ipykernel)",
   "language": "python",
   "name": "python3"
  },
  "language_info": {
   "codemirror_mode": {
    "name": "ipython",
    "version": 3
   },
   "file_extension": ".py",
   "mimetype": "text/x-python",
   "name": "python",
   "nbconvert_exporter": "python",
   "pygments_lexer": "ipython3",
   "version": "3.11.4"
  },
  "varInspector": {
   "cols": {
    "lenName": 16,
    "lenType": 16,
    "lenVar": 40
   },
   "kernels_config": {
    "python": {
     "delete_cmd_postfix": "",
     "delete_cmd_prefix": "del ",
     "library": "var_list.py",
     "varRefreshCmd": "print(var_dic_list())"
    },
    "r": {
     "delete_cmd_postfix": ") ",
     "delete_cmd_prefix": "rm(",
     "library": "var_list.r",
     "varRefreshCmd": "cat(var_dic_list()) "
    }
   },
   "types_to_exclude": [
    "module",
    "function",
    "builtin_function_or_method",
    "instance",
    "_Feature"
   ],
   "window_display": false
  }
 },
 "nbformat": 4,
 "nbformat_minor": 5
}
