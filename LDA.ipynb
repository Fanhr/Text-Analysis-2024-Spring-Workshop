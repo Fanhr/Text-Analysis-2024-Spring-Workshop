{
 "cells": [
  {
   "cell_type": "code",
   "execution_count": 14,
   "id": "2c0fb03b",
   "metadata": {
    "ExecuteTime": {
     "end_time": "2024-04-29T09:15:53.672467Z",
     "start_time": "2024-04-29T09:15:53.663681Z"
    }
   },
   "outputs": [],
   "source": [
    "import pandas as pd\n",
    "import numpy as np\n",
    "import matplotlib.pyplot as plt"
   ]
  },
  {
   "cell_type": "code",
   "execution_count": 15,
   "id": "1d4da784",
   "metadata": {
    "ExecuteTime": {
     "end_time": "2024-04-29T09:16:03.425495Z",
     "start_time": "2024-04-29T09:16:02.439662Z"
    }
   },
   "outputs": [],
   "source": [
    "# read all tweets\n",
    "df = pd.read_csv('./dataset_filter_240109.csv', index_col=0, nrows=30000)"
   ]
  },
  {
   "cell_type": "code",
   "execution_count": 16,
   "id": "eee111a2",
   "metadata": {
    "ExecuteTime": {
     "end_time": "2024-04-29T09:16:04.148693Z",
     "start_time": "2024-04-29T09:16:04.126452Z"
    }
   },
   "outputs": [
    {
     "data": {
      "text/html": [
       "<div>\n",
       "<style scoped>\n",
       "    .dataframe tbody tr th:only-of-type {\n",
       "        vertical-align: middle;\n",
       "    }\n",
       "\n",
       "    .dataframe tbody tr th {\n",
       "        vertical-align: top;\n",
       "    }\n",
       "\n",
       "    .dataframe thead th {\n",
       "        text-align: right;\n",
       "    }\n",
       "</style>\n",
       "<table border=\"1\" class=\"dataframe\">\n",
       "  <thead>\n",
       "    <tr style=\"text-align: right;\">\n",
       "      <th></th>\n",
       "      <th>tweet_id</th>\n",
       "      <th>author_id</th>\n",
       "      <th>created_at</th>\n",
       "      <th>retweet_count</th>\n",
       "      <th>reply_count</th>\n",
       "      <th>like_count</th>\n",
       "      <th>quote_count</th>\n",
       "      <th>en_text</th>\n",
       "      <th>stanza_output</th>\n",
       "      <th>stanza_named_entities</th>\n",
       "      <th>...</th>\n",
       "      <th>purity</th>\n",
       "      <th>non-moral</th>\n",
       "      <th>mdate</th>\n",
       "      <th>ordinal_mdate</th>\n",
       "      <th>stance_pro_rus</th>\n",
       "      <th>stance_pro_ukr</th>\n",
       "      <th>stance_unsure</th>\n",
       "      <th>sentiment_negative</th>\n",
       "      <th>sentiment_neutral</th>\n",
       "      <th>sentiment_positive</th>\n",
       "    </tr>\n",
       "  </thead>\n",
       "  <tbody>\n",
       "    <tr>\n",
       "      <th>0</th>\n",
       "      <td>1540451336876986373</td>\n",
       "      <td>15432891</td>\n",
       "      <td>2022-06-24</td>\n",
       "      <td>0</td>\n",
       "      <td>0.0</td>\n",
       "      <td>0</td>\n",
       "      <td>0</td>\n",
       "      <td>Weekend selection: Zelensky was not prepared f...</td>\n",
       "      <td>[[{'id': 1, 'text': 'Weekend', 'upos': 'NOUN',...</td>\n",
       "      <td>[{'text': 'Zelensky', 'type': 'PERSON', 'start...</td>\n",
       "      <td>...</td>\n",
       "      <td>0.072048</td>\n",
       "      <td>0.617735</td>\n",
       "      <td>2022-06</td>\n",
       "      <td>4</td>\n",
       "      <td>0</td>\n",
       "      <td>0</td>\n",
       "      <td>1</td>\n",
       "      <td>0</td>\n",
       "      <td>1</td>\n",
       "      <td>0</td>\n",
       "    </tr>\n",
       "    <tr>\n",
       "      <th>1</th>\n",
       "      <td>1516696238212661253</td>\n",
       "      <td>78567974</td>\n",
       "      <td>2022-04-20</td>\n",
       "      <td>1</td>\n",
       "      <td>1.0</td>\n",
       "      <td>0</td>\n",
       "      <td>0</td>\n",
       "      <td>The Ukrainian war, Charles Michel of Kiev, the...</td>\n",
       "      <td>[[{'id': 1, 'text': 'The', 'upos': 'DET', 'xpo...</td>\n",
       "      <td>[{'text': 'The Ukrainian war', 'type': 'EVENT'...</td>\n",
       "      <td>...</td>\n",
       "      <td>0.070797</td>\n",
       "      <td>0.606203</td>\n",
       "      <td>2022-04</td>\n",
       "      <td>2</td>\n",
       "      <td>0</td>\n",
       "      <td>0</td>\n",
       "      <td>1</td>\n",
       "      <td>0</td>\n",
       "      <td>1</td>\n",
       "      <td>0</td>\n",
       "    </tr>\n",
       "    <tr>\n",
       "      <th>2</th>\n",
       "      <td>1587766197298548738</td>\n",
       "      <td>145535271</td>\n",
       "      <td>2022-11-02</td>\n",
       "      <td>0</td>\n",
       "      <td>0.0</td>\n",
       "      <td>2</td>\n",
       "      <td>0</td>\n",
       "      <td>The invention of the Shark drone is a new chap...</td>\n",
       "      <td>[[{'id': 1, 'text': 'The', 'upos': 'DET', 'xpo...</td>\n",
       "      <td>[{'text': 'Shark', 'type': 'PRODUCT', 'start_c...</td>\n",
       "      <td>...</td>\n",
       "      <td>0.015667</td>\n",
       "      <td>0.614123</td>\n",
       "      <td>2022-11</td>\n",
       "      <td>9</td>\n",
       "      <td>0</td>\n",
       "      <td>0</td>\n",
       "      <td>1</td>\n",
       "      <td>0</td>\n",
       "      <td>1</td>\n",
       "      <td>0</td>\n",
       "    </tr>\n",
       "    <tr>\n",
       "      <th>3</th>\n",
       "      <td>1586193152175529984</td>\n",
       "      <td>145535271</td>\n",
       "      <td>2022-10-29</td>\n",
       "      <td>0</td>\n",
       "      <td>0.0</td>\n",
       "      <td>5</td>\n",
       "      <td>0</td>\n",
       "      <td>Will nuclear war be over? Those countries that...</td>\n",
       "      <td>[[{'id': 1, 'text': 'Will', 'upos': 'AUX', 'xp...</td>\n",
       "      <td>[]</td>\n",
       "      <td>...</td>\n",
       "      <td>0.071667</td>\n",
       "      <td>0.614273</td>\n",
       "      <td>2022-10</td>\n",
       "      <td>8</td>\n",
       "      <td>0</td>\n",
       "      <td>0</td>\n",
       "      <td>1</td>\n",
       "      <td>1</td>\n",
       "      <td>0</td>\n",
       "      <td>0</td>\n",
       "    </tr>\n",
       "    <tr>\n",
       "      <th>4</th>\n",
       "      <td>1580452730212331520</td>\n",
       "      <td>145535271</td>\n",
       "      <td>2022-10-13</td>\n",
       "      <td>0</td>\n",
       "      <td>0.0</td>\n",
       "      <td>3</td>\n",
       "      <td>0</td>\n",
       "      <td>Boys fight: Students fight in coaching center....</td>\n",
       "      <td>[[{'id': 1, 'text': 'Boys', 'upos': 'NOUN', 'x...</td>\n",
       "      <td>[{'text': 'Russia', 'type': 'GPE', 'start_char...</td>\n",
       "      <td>...</td>\n",
       "      <td>0.242989</td>\n",
       "      <td>0.621450</td>\n",
       "      <td>2022-10</td>\n",
       "      <td>8</td>\n",
       "      <td>0</td>\n",
       "      <td>1</td>\n",
       "      <td>0</td>\n",
       "      <td>1</td>\n",
       "      <td>0</td>\n",
       "      <td>0</td>\n",
       "    </tr>\n",
       "  </tbody>\n",
       "</table>\n",
       "<p>5 rows × 46 columns</p>\n",
       "</div>"
      ],
      "text/plain": [
       "              tweet_id  author_id  created_at  retweet_count  reply_count  \\\n",
       "0  1540451336876986373   15432891  2022-06-24              0          0.0   \n",
       "1  1516696238212661253   78567974  2022-04-20              1          1.0   \n",
       "2  1587766197298548738  145535271  2022-11-02              0          0.0   \n",
       "3  1586193152175529984  145535271  2022-10-29              0          0.0   \n",
       "4  1580452730212331520  145535271  2022-10-13              0          0.0   \n",
       "\n",
       "   like_count  quote_count                                            en_text  \\\n",
       "0           0            0  Weekend selection: Zelensky was not prepared f...   \n",
       "1           0            0  The Ukrainian war, Charles Michel of Kiev, the...   \n",
       "2           2            0  The invention of the Shark drone is a new chap...   \n",
       "3           5            0  Will nuclear war be over? Those countries that...   \n",
       "4           3            0  Boys fight: Students fight in coaching center....   \n",
       "\n",
       "                                       stanza_output  \\\n",
       "0  [[{'id': 1, 'text': 'Weekend', 'upos': 'NOUN',...   \n",
       "1  [[{'id': 1, 'text': 'The', 'upos': 'DET', 'xpo...   \n",
       "2  [[{'id': 1, 'text': 'The', 'upos': 'DET', 'xpo...   \n",
       "3  [[{'id': 1, 'text': 'Will', 'upos': 'AUX', 'xp...   \n",
       "4  [[{'id': 1, 'text': 'Boys', 'upos': 'NOUN', 'x...   \n",
       "\n",
       "                               stanza_named_entities  ...    purity non-moral  \\\n",
       "0  [{'text': 'Zelensky', 'type': 'PERSON', 'start...  ...  0.072048  0.617735   \n",
       "1  [{'text': 'The Ukrainian war', 'type': 'EVENT'...  ...  0.070797  0.606203   \n",
       "2  [{'text': 'Shark', 'type': 'PRODUCT', 'start_c...  ...  0.015667  0.614123   \n",
       "3                                                 []  ...  0.071667  0.614273   \n",
       "4  [{'text': 'Russia', 'type': 'GPE', 'start_char...  ...  0.242989  0.621450   \n",
       "\n",
       "     mdate  ordinal_mdate  stance_pro_rus  stance_pro_ukr  stance_unsure  \\\n",
       "0  2022-06              4               0               0              1   \n",
       "1  2022-04              2               0               0              1   \n",
       "2  2022-11              9               0               0              1   \n",
       "3  2022-10              8               0               0              1   \n",
       "4  2022-10              8               0               1              0   \n",
       "\n",
       "   sentiment_negative  sentiment_neutral  sentiment_positive  \n",
       "0                   0                  1                   0  \n",
       "1                   0                  1                   0  \n",
       "2                   0                  1                   0  \n",
       "3                   1                  0                   0  \n",
       "4                   1                  0                   0  \n",
       "\n",
       "[5 rows x 46 columns]"
      ]
     },
     "execution_count": 16,
     "metadata": {},
     "output_type": "execute_result"
    }
   ],
   "source": [
    "df.head()"
   ]
  },
  {
   "cell_type": "code",
   "execution_count": 17,
   "id": "d428b85f",
   "metadata": {
    "ExecuteTime": {
     "end_time": "2024-04-29T09:16:05.537580Z",
     "start_time": "2024-04-29T09:16:05.529475Z"
    }
   },
   "outputs": [
    {
     "data": {
      "text/plain": [
       "Index(['tweet_id', 'author_id', 'created_at', 'retweet_count', 'reply_count',\n",
       "       'like_count', 'quote_count', 'en_text', 'stanza_output',\n",
       "       'stanza_named_entities', 'stance', 'channel', 'country', 'verified',\n",
       "       'follower_count', 'sentiment.positive', 'sentiment.neutral',\n",
       "       'sentiment.negative', 'with_media', 'anger_num', 'anticipation_num',\n",
       "       'disgust_num', 'fear_num', 'joy_num', 'negative_num', 'positive_num',\n",
       "       'sadness_num', 'surprise_num', 'trust_num', 'stopword_num', 'word_num',\n",
       "       'sentence_num', 'care', 'fairness', 'loyalty', 'authority', 'purity',\n",
       "       'non-moral', 'mdate', 'ordinal_mdate', 'stance_pro_rus',\n",
       "       'stance_pro_ukr', 'stance_unsure', 'sentiment_negative',\n",
       "       'sentiment_neutral', 'sentiment_positive'],\n",
       "      dtype='object')"
      ]
     },
     "execution_count": 17,
     "metadata": {},
     "output_type": "execute_result"
    }
   ],
   "source": [
    "df.columns"
   ]
  },
  {
   "cell_type": "code",
   "execution_count": 18,
   "id": "d4a7bec7",
   "metadata": {
    "ExecuteTime": {
     "end_time": "2024-04-29T09:16:06.434936Z",
     "start_time": "2024-04-29T09:16:06.422111Z"
    }
   },
   "outputs": [
    {
     "data": {
      "text/plain": [
       "30000"
      ]
     },
     "execution_count": 18,
     "metadata": {},
     "output_type": "execute_result"
    }
   ],
   "source": [
    "len(df)"
   ]
  },
  {
   "cell_type": "code",
   "execution_count": 19,
   "id": "b62c6377",
   "metadata": {
    "ExecuteTime": {
     "end_time": "2024-04-29T09:16:07.691915Z",
     "start_time": "2024-04-29T09:16:07.684290Z"
    }
   },
   "outputs": [
    {
     "data": {
      "text/plain": [
       "'0123456789'"
      ]
     },
     "execution_count": 19,
     "metadata": {},
     "output_type": "execute_result"
    }
   ],
   "source": [
    "import string\n",
    "string.digits"
   ]
  },
  {
   "cell_type": "code",
   "execution_count": 20,
   "id": "247453af",
   "metadata": {
    "ExecuteTime": {
     "end_time": "2024-04-29T09:16:08.152655Z",
     "start_time": "2024-04-29T09:16:08.143831Z"
    }
   },
   "outputs": [
    {
     "data": {
      "text/plain": [
       "'‘’”“'"
      ]
     },
     "execution_count": 20,
     "metadata": {},
     "output_type": "execute_result"
    }
   ],
   "source": [
    "'‘’”“'"
   ]
  },
  {
   "cell_type": "code",
   "execution_count": 21,
   "id": "b775d428",
   "metadata": {
    "ExecuteTime": {
     "end_time": "2024-04-29T09:16:08.987143Z",
     "start_time": "2024-04-29T09:16:08.975781Z"
    }
   },
   "outputs": [],
   "source": [
    "punctuations = string.punctuation+'‘’”“'"
   ]
  },
  {
   "cell_type": "code",
   "execution_count": 27,
   "id": "ee76fc54",
   "metadata": {
    "ExecuteTime": {
     "end_time": "2024-04-29T09:18:15.823690Z",
     "start_time": "2024-04-29T09:18:15.807560Z"
    }
   },
   "outputs": [
    {
     "name": "stderr",
     "output_type": "stream",
     "text": [
      "[nltk_data] Downloading package stopwords to\n",
      "[nltk_data]     /Users/fanhongrui/nltk_data...\n",
      "[nltk_data]   Package stopwords is already up-to-date!\n"
     ]
    }
   ],
   "source": [
    "from gensim import corpora, models\n",
    "from gensim.models import CoherenceModel\n",
    "from nltk.tokenize import word_tokenize\n",
    "from nltk.corpus import stopwords\n",
    "from nltk.stem import PorterStemmer\n",
    "import string\n",
    "\n",
    "# 下载停用词\n",
    "import nltk\n",
    "nltk.download('stopwords')\n",
    "\n",
    "# 初始化词干化器\n",
    "stemmer = PorterStemmer()\n",
    "\n",
    "# 初始化停用词\n",
    "stop_words = set(stopwords.words('english'))\n",
    "stop_words.update(['re', 'http', '\\'s', 'rt'])\n",
    "\n",
    "# 定义文本预处理函数\n",
    "def preprocess_text(text):\n",
    "    # 分词\n",
    "    tokens = word_tokenize(text)\n",
    "    # 去除标点符号\n",
    "    tokens = [token for token in tokens if token not in punctuations]\n",
    "    # 小写化\n",
    "    tokens = [token.lower() for token in tokens]\n",
    "    # 词干化\n",
    "    tokens = [stemmer.stem(token) for token in tokens]\n",
    "    # 去停用词\n",
    "    tokens = [token for token in tokens if token not in stop_words]\n",
    "    # 去数字\n",
    "    tokens = [token for token in tokens if token not in string.digits]\n",
    "   \n",
    "    return tokens"
   ]
  },
  {
   "cell_type": "code",
   "execution_count": 28,
   "id": "528d7249",
   "metadata": {
    "ExecuteTime": {
     "end_time": "2024-04-29T09:18:21.911345Z",
     "start_time": "2024-04-29T09:18:17.292732Z"
    }
   },
   "outputs": [],
   "source": [
    "# 对文本进行预处理\n",
    "df['en_text_tokens'] = df['en_text'].apply(preprocess_text)\n",
    "\n",
    "# 创建词典\n",
    "dictionary = corpora.Dictionary(df['en_text_tokens'])\n",
    "\n",
    "# 创建文档-词频矩阵\n",
    "corpus = [dictionary.doc2bow(text) for text in df['en_text_tokens']]"
   ]
  },
  {
   "cell_type": "code",
   "execution_count": 29,
   "id": "908f9f11",
   "metadata": {
    "ExecuteTime": {
     "end_time": "2024-04-29T09:18:54.865087Z",
     "start_time": "2024-04-29T09:18:22.237403Z"
    }
   },
   "outputs": [
    {
     "name": "stdout",
     "output_type": "stream",
     "text": [
      "Best number of topics: 4\n",
      "Coherence score: 0.28195436532433416\n",
      "Topic 0:\n",
      "russian: 0.06476058065891266\n",
      "ukrainian: 0.03469914570450783\n",
      "war: 0.03445715457201004\n",
      "ukrain: 0.03306416794657707\n",
      "toward: 0.031312331557273865\n",
      "kiev: 0.020745592191815376\n",
      "troop: 0.017118265852332115\n",
      "russia: 0.012981101870536804\n",
      "militari: 0.012879774905741215\n",
      "warn: 0.011613159440457821\n",
      "advanc: 0.01052046287804842\n",
      "refuge: 0.010152238421142101\n",
      "citi: 0.009818200021982193\n",
      "forc: 0.009746570140123367\n",
      "attack: 0.009545856155455112\n",
      "\n",
      "Topic 1:\n",
      "war: 0.05950278416275978\n",
      "ukrain: 0.05217037349939346\n",
      "russian: 0.03235456719994545\n",
      "``: 0.029044726863503456\n",
      "crime: 0.028922926634550095\n",
      "'': 0.024890685454010963\n",
      "warn: 0.023673128336668015\n",
      "russia: 0.022666119039058685\n",
      "ukrainian: 0.01302951481193304\n",
      "moscow: 0.011965116485953331\n",
      "commit: 0.011680434457957745\n",
      "presid: 0.011335963383316994\n",
      "...: 0.008660303428769112\n",
      "mariupol: 0.008502935990691185\n",
      "putin: 0.007906910963356495\n",
      "\n",
      "Topic 2:\n",
      "war: 0.0927477553486824\n",
      "ukrain: 0.05976678058505058\n",
      "russia: 0.028322450816631317\n",
      "sinc: 0.022599708288908005\n",
      "russian: 0.020551789551973343\n",
      "ukrainian: 0.01823035441339016\n",
      "ha: 0.017088113352656364\n",
      "start: 0.016512684524059296\n",
      "militari: 0.012912999838590622\n",
      "million: 0.012453367002308369\n",
      "...: 0.01129974890500307\n",
      "kill: 0.010482720099389553\n",
      "day: 0.009588128887116909\n",
      "year: 0.008828303776681423\n",
      "began: 0.00839991308748722\n",
      "\n",
      "Topic 3:\n",
      "war: 0.0930984765291214\n",
      "ukrain: 0.0776200145483017\n",
      "russia: 0.04331516847014427\n",
      "warn: 0.01426189299672842\n",
      "us: 0.013104155659675598\n",
      "putin: 0.010694382712244987\n",
      "urgent: 0.010544070042669773\n",
      "sanction: 0.009409495629370213\n",
      "stop: 0.008824442513287067\n",
      "minist: 0.008282980881631374\n",
      "foreign: 0.007916539907455444\n",
      "russian: 0.007679049391299486\n",
      "nato: 0.0076249646954238415\n",
      "european: 0.007405298762023449\n",
      "world: 0.007269989233464003\n",
      "\n"
     ]
    }
   ],
   "source": [
    "# 初始化 coherence 和最优的主题数量\n",
    "best_coherence = -1\n",
    "best_topic_num = 0\n",
    "\n",
    "# 尝试不同的主题数量\n",
    "for num_topics in range(2, 7):  # 假设尝试主题数量从2到6\n",
    "    # 训练LDA模型\n",
    "    lda_model = models.LdaModel(corpus, id2word=dictionary, num_topics=num_topics)\n",
    "    \n",
    "    # 计算主题一致性\n",
    "    coherence_model = CoherenceModel(model=lda_model, texts=df['en_text_tokens'], dictionary=dictionary, coherence='c_v')\n",
    "    coherence = coherence_model.get_coherence()\n",
    "    \n",
    "    # 如果当前主题数量的一致性比之前的更好，则更新最优值\n",
    "    if coherence > best_coherence:\n",
    "        best_coherence = coherence\n",
    "        best_topic_num = num_topics\n",
    "\n",
    "# 输出最佳的主题数量和对应的一致性\n",
    "print(f\"Best number of topics: {best_topic_num}\")\n",
    "print(f\"Coherence score: {best_coherence}\")\n",
    "\n",
    "# 输出最佳主题最具代表性的15个词语\n",
    "for topic_id in range(best_topic_num):\n",
    "    print(f\"Topic {topic_id}:\")\n",
    "    topic_terms = lda_model.show_topic(topic_id, topn=15)\n",
    "    for term, prob in topic_terms:\n",
    "        print(f\"{term}: {prob}\")\n",
    "    print()"
   ]
  },
  {
   "cell_type": "code",
   "execution_count": 11,
   "id": "360bae12",
   "metadata": {
    "ExecuteTime": {
     "end_time": "2024-03-01T03:07:19.166573Z",
     "start_time": "2024-03-01T03:05:34.304426Z"
    }
   },
   "outputs": [],
   "source": [
    "# # 初始化一个空列表来存储每个文档的最大主题\n",
    "# max_topic_list = []\n",
    "\n",
    "# # 对每个文档进行转换，得到主题分布\n",
    "# topic_distributions = [lda_model.get_document_topics(doc) for doc in corpus]\n",
    "\n",
    "# # 遍历每个文档，找到概率最大的主题并添加到 max_topic_list 中\n",
    "# for doc_topics in topic_distributions:\n",
    "#     max_prob = 0.0\n",
    "#     max_topic_id = -1\n",
    "#     for topic_id, prob in doc_topics:\n",
    "#         if prob > max_prob:\n",
    "#             max_prob = prob\n",
    "#             max_topic_id = topic_id\n",
    "#     max_topic_list.append(max_topic_id)\n",
    "\n",
    "# # 将最大主题列表添加到 DataFrame 的新列 'LDA_topic' 中\n",
    "# df['LDA_topic'] = max_topic_list\n"
   ]
  },
  {
   "cell_type": "code",
   "execution_count": 12,
   "id": "b44d5a36",
   "metadata": {
    "ExecuteTime": {
     "end_time": "2024-03-01T05:59:54.729198Z",
     "start_time": "2024-03-01T05:59:54.150629Z"
    }
   },
   "outputs": [],
   "source": [
    "# # 假设 lda_model 是你训练好的 LDA 模型\n",
    "\n",
    "# # 保存模型到文件\n",
    "# lda_model.save('lda_model')\n",
    "\n",
    "# # 若要加载模型，可以使用以下代码\n",
    "# # 加载模型\n",
    "# # loaded_lda_model = models.LdaModel.load('lda_model')\n"
   ]
  },
  {
   "cell_type": "code",
   "execution_count": 30,
   "id": "5d9cdd0a",
   "metadata": {
    "ExecuteTime": {
     "end_time": "2024-04-29T09:19:05.009666Z",
     "start_time": "2024-04-29T09:18:59.000707Z"
    }
   },
   "outputs": [
    {
     "data": {
      "text/html": [
       "\n",
       "<link rel=\"stylesheet\" type=\"text/css\" href=\"https://cdn.jsdelivr.net/gh/bmabey/pyLDAvis@3.4.0/pyLDAvis/js/ldavis.v1.0.0.css\">\n",
       "\n",
       "\n",
       "<div id=\"ldavis_el20307266502514881725138689\" style=\"background-color:white;\"></div>\n",
       "<script type=\"text/javascript\">\n",
       "\n",
       "var ldavis_el20307266502514881725138689_data = {\"mdsDat\": {\"x\": [0.06880495387082684, -0.042032454628832365, 0.16217173725813425, -0.1889442365001288], \"y\": [-0.11106031675352232, -0.1072841217742421, 0.12641694351528687, 0.09192749501247754], \"topics\": [1, 2, 3, 4], \"cluster\": [1, 1, 1, 1], \"Freq\": [32.04716724657567, 30.9665808632336, 18.604951012761326, 18.3813008774294]}, \"tinfo\": {\"Term\": [\"warn\", \"``\", \"''\", \"ukrainian\", \"crime\", \"user_mention_1\", \"url_1\", \"russian-ukrainian\", \"toward\", \"weapon\", \"nuclear\", \"sinc\", \"sanction\", \"...\", \"russian\", \"food\", \"citi\", \"macron\", \"develop\", \"crisi\", \"consequ\", \"follow\", \"urgent\", \"us\", \"use\", \"putin\", \"kiev\", \"negoti\", \"commit\", \"kill\", \"america\", \"impos\", \"deleg\", \"happen\", \"immin\", \"cours\", \"imf\", \"fallout\", \"vehicl\", \"fall\", \"protect\", \"express\", \"compani\", \"option\", \"refus\", \"map\", \"capabl\", \"senat\", \"trap\", \"biolog\", \"chosen\", \"jet\", \"intervent\", \"provoc\", \"free\", \"estim\", \"mass\", \"fund\", \"expans\", \"ukrainian-russian\", \"econom\", \"next\", \"account\", \"crisi\", \"top\", \"sanction\", \"pressur\", \"eastern\", \"allow\", \"prime\", \"vladimir\", \"rapidli\", \"deputi\", \"join\", \"china\", \"decis\", \"advisor\", \"us\", \"putin\", \"support\", \"stop\", \"threaten\", \"ukrain\", \"russia\", \"foreign\", \"minist\", \"war\", \"respons\", \"presid\", \"must\", \"hi\", \"biden\", \"countri\", \"state\", \"price\", \"nato\", \"urgent\", \"thi\", \"end\", \"ha\", \"russian\", \"european\", \"due\", \"world\", \"warn\", \"capit\", \"amid\", \"displac\", \"kill\", \"emerg\", \"fled\", \"investig\", \"chancellor\", \"syrian\", \"began\", \"island\", \"cross\", \"consid\", \"diplomaci\", \"fuel\", \"schultz\", \"step\", \"friday\", \"link\", \"prosecutor\", \"zelenskyy\", \"sinc\", \"agenc\", \"organ\", \"life\", \"'re\", \"brutal\", \"24\", \"odessa\", \"assembl\", \"crime\", \"commit\", \"refuge\", \"pentagon\", \"soldier\", \"children\", \"turkish\", \"scenario\", \"civilian\", \"million\", \"flee\", \"major\", \"start\", \"advanc\", \"begin\", \"peopl\", \"dure\", \"protest\", \"ukrainian\", \"war\", \"russian\", \"ukrain\", \"first\", \"accus\", \"kiev\", \"ha\", \"russia\", \"day\", \"militari\", \"border\", \"un\", \"two\", \"toward\", \"urgent\", \"``\", \"presid\", \"''\", \"countri\", \"troop\", \"moscow\", \"putin\", \"lavrov\", \"describ\", \"isra\", \"catastroph\", \"anti-war\", \"egypt\", \"suspend\", \"choos\", \"unjustifi\", \"intensifi\", \"session\", \"updat\", \"sergei\", \"coordin\", \"famin\", \"hurt\", \"highlight\", \"insist\", \"ankara\", \"safe\", \"agricultur\", \"anthoni\", \"human\", \"measur\", \"palestinian\", \"'ve\", \"secretary-gener\", \"pictur\", \"pain\", \"sound\", \"russian-ukrainian\", \"right\", \"urg\", \"egyptian\", \"disrupt\", \"consequ\", \"forward\", \"led\", \"weapon\", \"avoid\", \"nuclear\", \"warn\", \"everyth\", \"plant\", \"situat\", \"terror\", \"food\", \"grow\", \"council\", \"''\", \"``\", \"guterr\", \"power\", \"use\", \"demand\", \"suppli\", \"secur\", \"posit\", \"gener\", \"world\", \"call\", \"war\", \"ukrain\", \"urgent\", \"russian\", \"nato\", \"russia\", \"secretari\", \"washington\", \"un\", \"putin\", \"zelenski\", \"possibl\", \"...\", \"biden\", \"ukrainian\", \"effort\", \"coverag\", \"machin\", \"approach\", \"url_2\", \"thursday\", \"user_mention_2\", \"stanc\", \"fate\", \"street\", \"cyber\", \"play\", \"black\", \"speak\", \"goal\", \"tragedi\", \"latest\", \"chose\", \"achiev\", \"light\", \"berlin\", \"afp\", \"town\", \"exploit\", \"warship\", \"wartim\", \"africa\", \"iii\", \"wall\", \"attrit\", \"destruct\", \"donetsk\", \"russian_ukrainian_war\", \"sea\", \"interest\", \"user_mention_1\", \"separatist\", \"macron\", \"seem\", \"url_1\", \"negoti\", \"warehous\", \"follow\", \"control\", \"citi\", \"develop\", \"field\", \"toward\", \"...\", \"ukrainian\", \"video\", \"russian\", \"war\", \"mariupol\", \"troop\", \"live\", \"ukrain\", \"kiev\", \"russia\", \"news\", \"``\", \"end\", \"''\", \"putin\", \"moscow\", \"militari\", \"presid\", \"ha\"], \"Freq\": [3339.0, 3889.0, 3440.0, 3869.0, 1510.0, 1043.0, 1127.0, 939.0, 1463.0, 828.0, 820.0, 890.0, 1007.0, 1668.0, 7683.0, 519.0, 602.0, 470.0, 530.0, 675.0, 441.0, 459.0, 2140.0, 1941.0, 685.0, 3796.0, 1576.0, 416.0, 481.0, 442.0, 193.14105655227607, 329.21625307869755, 159.97004051013346, 158.01146137449052, 122.96714896715667, 103.76911761399022, 123.11552759807753, 88.46707946499025, 86.68714665059375, 124.68231808560624, 90.65146825540792, 103.24379641977139, 155.77266238794041, 236.07069542809708, 241.26846945862965, 70.74175858402154, 65.50390952074125, 67.38890422491745, 65.610474811515, 79.92046210222445, 58.764350789526354, 56.4190217481633, 60.50137794899102, 61.38039184504119, 59.321366730483085, 53.37412381377462, 56.86348815767072, 128.04063401863402, 51.64072595827216, 55.16096874914768, 420.2960907821883, 136.73379186969905, 130.75854810947635, 650.8390156615582, 107.99495464718785, 960.9566262871805, 148.582670624523, 211.21625877864977, 116.39423283987634, 227.11425447794855, 408.3507712026599, 170.93987600560655, 129.80917387237247, 142.19312243723604, 464.79333057263636, 186.24012886592607, 110.87229971532138, 1435.391831210051, 2386.4587099081027, 568.5865848197733, 1006.4822393388419, 260.0619919818337, 7598.1352532080555, 4199.449996687958, 740.7950141407133, 753.2369258610897, 8981.57537174249, 270.6921175792522, 1237.3398918200605, 405.2253884611482, 623.6749087630756, 580.9111842813326, 717.2512847610343, 453.36090563848535, 420.12169626687813, 588.2309148524087, 881.7543611559236, 471.85109352049875, 614.3361576382674, 817.2871170925034, 1561.325061139951, 456.41360833819084, 377.60582153338913, 472.8882052999899, 567.452738582571, 275.32076528236803, 245.57029637279632, 214.38527793680854, 440.54888844254685, 204.36124962813386, 182.4564501110877, 323.120999636701, 176.08164795450776, 180.51114874656005, 332.3136928756765, 167.05203258060405, 152.56956280509573, 145.02456999962195, 143.1271399159679, 135.98278819302584, 123.94212826845066, 119.14040500157347, 128.68072681645185, 154.47349602861243, 99.11237987088647, 149.24231584654865, 883.7096557601831, 104.52229993025664, 102.02529851012285, 92.76091184267925, 114.69986135596737, 92.9284840243053, 180.92973304745624, 104.1768844647782, 88.38443490654006, 1480.7629038496646, 476.8875260521844, 446.6966141202935, 239.96774491222473, 286.1202901823403, 229.80818345129958, 242.0330422588948, 193.97724472231624, 401.4026649005927, 470.44517295587957, 289.96392957326026, 170.46184558190964, 559.8619614543647, 407.4023959120065, 253.73133967544885, 449.5772894430382, 332.92446595568924, 329.83766493279603, 1937.8125620284018, 7784.288468472612, 3275.780406018609, 5738.688031565902, 390.55688031810723, 375.4508468192613, 859.0122513660012, 1132.7464548090036, 2445.353279057651, 540.2371877415819, 662.6147036863639, 293.5417460289926, 449.37540837519094, 306.53247723486004, 563.2781414041223, 665.550808913278, 808.42694805926, 634.9737489348145, 717.8770470234538, 463.081848143043, 394.1961417986498, 402.42968432895066, 457.8234523774005, 188.44174122213605, 150.44506891971272, 123.60979134009837, 123.86942145501614, 128.07345733881772, 160.59182238923896, 100.96444168368667, 81.55576775919207, 77.23863635364381, 68.69847207143334, 83.27946188383311, 226.33288679752744, 57.34370487176357, 59.750445216373684, 71.88936000469322, 63.857709627570145, 56.19362651485771, 58.83874638994549, 59.74826322150096, 66.7429750852357, 47.762960872220916, 48.49652027349346, 248.67699160555821, 43.99381361338736, 45.10533543901886, 66.04867795420417, 42.48989069420007, 43.720239187486115, 43.58833418806321, 49.416067462729465, 912.4006105291325, 200.9845296239281, 122.49147805542553, 137.7674059598507, 68.15553719722881, 409.60702320006874, 144.0093705049009, 72.82161731406282, 741.9684822127729, 242.0786936603249, 710.6965680959249, 2666.3124184642656, 122.82431409832304, 104.4343794862315, 230.97075781189758, 86.7418036167273, 450.29686358655056, 84.22172227594734, 248.62961504188428, 2178.3803982132977, 2406.727470840365, 186.72944802070498, 167.30796169506712, 466.4132413660756, 256.37373304465467, 288.5646215770845, 400.43838984464315, 171.09672304218623, 284.93389120862213, 534.7889418459619, 472.24691375803604, 3155.7347412133017, 2385.929786711035, 592.3320196804863, 1050.2366811401341, 398.32261851631023, 1069.110500390187, 278.73037068573564, 264.24497952369694, 297.8553648205747, 480.25232564681465, 273.3678182617314, 247.73990663253272, 276.52857420954575, 256.8425891929304, 256.784548129316, 242.59557744118922, 225.818955254287, 157.33607785153754, 122.20031325747088, 286.3628908007862, 109.67433439994488, 132.53604823666487, 95.91453706548165, 100.57018129138639, 223.61654477661483, 97.64796084345106, 66.35176885609394, 144.43676089753762, 81.36124301458557, 128.18256143800483, 68.90070510168312, 290.150785675747, 66.09130527343179, 125.68971550587413, 54.345039709165924, 59.68250528203424, 54.8695205185389, 58.80188870808938, 56.47427880326504, 195.5421370095397, 55.52272071528289, 87.51892331772008, 57.65302085002213, 48.54794817290886, 44.68522466994662, 189.90917667097006, 175.37464451329782, 195.44993763048697, 157.92809137136746, 160.71758405618016, 985.892608578921, 104.56814873956068, 441.06302033747806, 67.18165084552574, 980.8627774240304, 372.9147311533484, 89.64394182793957, 395.6484060160602, 166.35387235713853, 484.82586048447155, 431.7302820228231, 157.0834491276974, 831.4975198053087, 879.0822620218748, 1520.342026132838, 272.39463771694204, 1796.0365743450054, 3479.6394349491347, 247.74683206590646, 394.97898705524574, 281.47666054929215, 1953.092577888145, 490.98622875722776, 1098.1497651572795, 223.7542712200865, 583.7740238967191, 382.34782033387864, 493.7512669815727, 472.4250911592467, 327.53698041531334, 320.2886244385524, 292.87737043994053, 265.8058380756169], \"Total\": [3339.0, 3889.0, 3440.0, 3869.0, 1510.0, 1043.0, 1127.0, 939.0, 1463.0, 828.0, 820.0, 890.0, 1007.0, 1668.0, 7683.0, 519.0, 602.0, 470.0, 530.0, 675.0, 441.0, 459.0, 2140.0, 1941.0, 685.0, 3796.0, 1576.0, 416.0, 481.0, 442.0, 193.9073199641049, 330.60676951221024, 160.79465480548305, 159.11586967364514, 123.86668399194717, 104.53230322694749, 124.05899377065131, 89.28179719159691, 87.50353898839734, 125.87728547960654, 91.57858082519243, 104.39521633098144, 157.540351072615, 238.7693884019738, 244.07196367706698, 71.56705781361455, 66.27098222600063, 68.18616620186803, 66.44374425629265, 80.96961038021517, 59.54957246013744, 57.18251274991361, 61.32652375535245, 62.24979579850148, 60.174949919936275, 54.15158605009219, 57.71505606052113, 129.9915193936543, 52.42951110893268, 56.02094987951649, 427.7168743189251, 139.29623893395507, 133.46038200086292, 675.3402543706584, 110.19627612527519, 1007.0715294291838, 152.1097657399662, 218.40609073816321, 118.94067363330566, 235.4493230198642, 433.43131467306006, 176.72265643882287, 133.47714293613294, 146.9196397845852, 525.4524141285278, 198.1635428246381, 113.72671273352833, 1941.0152278166697, 3796.9595790915646, 731.35853753496, 1463.7879934626242, 305.81615929216775, 17675.845649373136, 8812.063541293075, 1099.7588072342767, 1126.9548439513915, 23401.23801637754, 332.1948620440792, 2407.647435442544, 573.2852464728292, 1040.0337792120106, 1013.0347558131207, 1384.052187394409, 735.3131531250784, 665.8010730486901, 1126.545209469164, 2140.0343921027734, 820.7813203030667, 1365.6317090674033, 2364.9022124199046, 7683.3787226437, 912.3689148600384, 630.2535570430119, 1226.0404938984332, 3339.1715213787365, 276.18235223079006, 246.43819900917043, 215.14705239794236, 442.33277493655595, 205.20083263847184, 183.2131797819484, 324.51356539782216, 176.84961019583838, 181.33377291913175, 333.8998346875119, 167.8994387795797, 153.3802567520188, 145.87934198044906, 144.0047726358485, 136.83063062774673, 124.74446276618018, 119.94809400823128, 129.58572439932877, 155.58206366673673, 99.8689994148837, 150.38679823392266, 890.7098229252209, 105.3747003584297, 102.86924318286877, 93.54822411530323, 115.6915269157919, 93.73239823820673, 182.50714736107219, 105.10052205469394, 89.17756453763461, 1510.1976810812312, 481.75141753704105, 455.94437589291607, 243.75835638620808, 291.1698544152276, 233.97175886983393, 247.15405645449826, 197.69999932854512, 418.8641783719937, 501.9192245284408, 305.35814978297225, 174.98594904666575, 673.9212597711373, 470.51470374222805, 278.56509462798897, 564.2294267919574, 393.08576242732556, 394.70496338305514, 3869.74067210826, 23401.23801637754, 7683.3787226437, 17675.845649373136, 501.71108304950474, 487.570539851406, 1576.5114394281964, 2364.9022124199046, 8812.063541293075, 885.9930325554487, 1398.7552048290595, 349.625003542417, 774.4230699673697, 379.5012348822148, 1463.977295604415, 2140.0343921027734, 3889.5118645387906, 2407.647435442544, 3440.6312774713547, 1384.052187394409, 870.3162946865963, 1147.7672611882633, 3796.9595790915646, 189.18972845960417, 151.2430533182077, 124.3809429741042, 124.6684394543609, 128.93392154791098, 162.029636119932, 101.88776014549734, 82.37527122728501, 78.0571097668869, 69.45920862343542, 84.26551875794948, 229.0261437871646, 58.094881375621, 60.5354306348508, 72.87031961733345, 64.75333512809459, 57.00401042362425, 59.70282726033303, 60.67791648393337, 67.81562173545522, 48.53691375905047, 49.3067061835803, 253.0833990220855, 44.775628741642976, 45.91327438282685, 67.24235791150831, 43.26542422826807, 44.522193723542905, 44.41236506489903, 50.35164389700345, 939.2796701372782, 207.23079284334727, 125.73336277931068, 142.0407712079332, 69.77612175109655, 441.6312992816499, 151.02389634116582, 74.86671401370756, 828.1503017157191, 262.7172781177127, 820.407598814078, 3339.1715213787365, 129.8083814122475, 109.33067291224197, 254.4023055356348, 89.84520762773086, 519.4324279559651, 87.26916936131724, 294.46363926362056, 3440.6312774713547, 3889.5118645387906, 215.28774451169127, 197.55982152630708, 685.8104905450216, 332.9667501978512, 389.74227510986333, 668.608906132893, 209.25667138427983, 458.5708043691359, 1226.0404938984332, 1060.0022543877276, 23401.23801637754, 17675.845649373136, 2140.0343921027734, 7683.3787226437, 1126.545209469164, 8812.063541293075, 620.0153538262527, 554.2845607074031, 774.4230699673697, 3796.9595790915646, 779.7218799940024, 480.9298636860291, 1668.2556250264222, 1013.0347558131207, 3869.74067210826, 243.3855666921445, 226.8096031452749, 158.18115756468143, 122.98462005596181, 288.3262886469929, 110.5292405556535, 133.5741966544906, 96.70250525462917, 101.41875393214228, 225.58873098769223, 98.58348229153329, 67.1190173429512, 146.15240411177078, 82.33557697075899, 129.75103880820228, 69.74438936272736, 293.966290441858, 67.01563942891686, 127.476277044456, 55.11752712779428, 60.54528470792839, 55.69714873033873, 59.709072517227966, 57.3503201334771, 198.62675055871927, 56.406358671415056, 88.91513257289884, 58.606819833006064, 49.397392752771154, 45.472858468005604, 193.74590968219994, 178.876744571763, 199.75849153080486, 161.29055476150572, 164.17150849439705, 1043.1115429140273, 106.96913605692205, 470.5611686887082, 68.40850272216711, 1127.8132898763236, 416.7265814918411, 92.60798947182928, 459.88643798521, 181.7377157999428, 602.4638565957812, 530.1360768107872, 178.47482871151266, 1463.977295604415, 1668.2556250264222, 3869.74067210826, 395.3765300293014, 7683.3787226437, 23401.23801637754, 368.66792490722537, 870.3162946865963, 488.54510299265553, 17675.845649373136, 1576.5114394281964, 8812.063541293075, 340.0518724885078, 3889.5118645387906, 1365.6317090674033, 3440.6312774713547, 3796.9595790915646, 1147.7672611882633, 1398.7552048290595, 2407.647435442544, 2364.9022124199046], \"Category\": [\"Default\", \"Default\", \"Default\", \"Default\", \"Default\", \"Default\", \"Default\", \"Default\", \"Default\", \"Default\", \"Default\", \"Default\", \"Default\", \"Default\", \"Default\", \"Default\", \"Default\", \"Default\", \"Default\", \"Default\", \"Default\", \"Default\", \"Default\", \"Default\", \"Default\", \"Default\", \"Default\", \"Default\", \"Default\", \"Default\", \"Topic1\", \"Topic1\", \"Topic1\", \"Topic1\", \"Topic1\", \"Topic1\", \"Topic1\", \"Topic1\", \"Topic1\", \"Topic1\", \"Topic1\", \"Topic1\", \"Topic1\", \"Topic1\", \"Topic1\", \"Topic1\", \"Topic1\", \"Topic1\", \"Topic1\", \"Topic1\", \"Topic1\", \"Topic1\", \"Topic1\", \"Topic1\", \"Topic1\", \"Topic1\", \"Topic1\", \"Topic1\", \"Topic1\", \"Topic1\", \"Topic1\", \"Topic1\", \"Topic1\", \"Topic1\", \"Topic1\", \"Topic1\", \"Topic1\", \"Topic1\", \"Topic1\", \"Topic1\", \"Topic1\", \"Topic1\", \"Topic1\", \"Topic1\", \"Topic1\", \"Topic1\", \"Topic1\", \"Topic1\", \"Topic1\", \"Topic1\", \"Topic1\", \"Topic1\", \"Topic1\", \"Topic1\", \"Topic1\", \"Topic1\", \"Topic1\", \"Topic1\", \"Topic1\", \"Topic1\", \"Topic1\", \"Topic1\", \"Topic1\", \"Topic1\", \"Topic1\", \"Topic1\", \"Topic1\", \"Topic1\", \"Topic1\", \"Topic1\", \"Topic1\", \"Topic1\", \"Topic1\", \"Topic1\", \"Topic1\", \"Topic2\", \"Topic2\", \"Topic2\", \"Topic2\", \"Topic2\", \"Topic2\", \"Topic2\", \"Topic2\", \"Topic2\", \"Topic2\", \"Topic2\", \"Topic2\", \"Topic2\", \"Topic2\", \"Topic2\", \"Topic2\", \"Topic2\", \"Topic2\", \"Topic2\", \"Topic2\", \"Topic2\", \"Topic2\", \"Topic2\", \"Topic2\", \"Topic2\", \"Topic2\", \"Topic2\", \"Topic2\", \"Topic2\", \"Topic2\", \"Topic2\", \"Topic2\", \"Topic2\", \"Topic2\", \"Topic2\", \"Topic2\", \"Topic2\", \"Topic2\", \"Topic2\", \"Topic2\", \"Topic2\", \"Topic2\", \"Topic2\", \"Topic2\", \"Topic2\", \"Topic2\", \"Topic2\", \"Topic2\", \"Topic2\", \"Topic2\", \"Topic2\", \"Topic2\", \"Topic2\", \"Topic2\", \"Topic2\", \"Topic2\", \"Topic2\", \"Topic2\", \"Topic2\", \"Topic2\", \"Topic2\", \"Topic2\", \"Topic2\", \"Topic2\", \"Topic2\", \"Topic2\", \"Topic2\", \"Topic2\", \"Topic2\", \"Topic2\", \"Topic2\", \"Topic3\", \"Topic3\", \"Topic3\", \"Topic3\", \"Topic3\", \"Topic3\", \"Topic3\", \"Topic3\", \"Topic3\", \"Topic3\", \"Topic3\", \"Topic3\", \"Topic3\", \"Topic3\", \"Topic3\", \"Topic3\", \"Topic3\", \"Topic3\", \"Topic3\", \"Topic3\", \"Topic3\", \"Topic3\", \"Topic3\", \"Topic3\", \"Topic3\", \"Topic3\", \"Topic3\", \"Topic3\", \"Topic3\", \"Topic3\", \"Topic3\", \"Topic3\", \"Topic3\", \"Topic3\", \"Topic3\", \"Topic3\", \"Topic3\", \"Topic3\", \"Topic3\", \"Topic3\", \"Topic3\", \"Topic3\", \"Topic3\", \"Topic3\", \"Topic3\", \"Topic3\", \"Topic3\", \"Topic3\", \"Topic3\", \"Topic3\", \"Topic3\", \"Topic3\", \"Topic3\", \"Topic3\", \"Topic3\", \"Topic3\", \"Topic3\", \"Topic3\", \"Topic3\", \"Topic3\", \"Topic3\", \"Topic3\", \"Topic3\", \"Topic3\", \"Topic3\", \"Topic3\", \"Topic3\", \"Topic3\", \"Topic3\", \"Topic3\", \"Topic3\", \"Topic3\", \"Topic3\", \"Topic3\", \"Topic3\", \"Topic3\", \"Topic4\", \"Topic4\", \"Topic4\", \"Topic4\", \"Topic4\", \"Topic4\", \"Topic4\", \"Topic4\", \"Topic4\", \"Topic4\", \"Topic4\", \"Topic4\", \"Topic4\", \"Topic4\", \"Topic4\", \"Topic4\", \"Topic4\", \"Topic4\", \"Topic4\", \"Topic4\", \"Topic4\", \"Topic4\", \"Topic4\", \"Topic4\", \"Topic4\", \"Topic4\", \"Topic4\", \"Topic4\", \"Topic4\", \"Topic4\", \"Topic4\", \"Topic4\", \"Topic4\", \"Topic4\", \"Topic4\", \"Topic4\", \"Topic4\", \"Topic4\", \"Topic4\", \"Topic4\", \"Topic4\", \"Topic4\", \"Topic4\", \"Topic4\", \"Topic4\", \"Topic4\", \"Topic4\", \"Topic4\", \"Topic4\", \"Topic4\", \"Topic4\", \"Topic4\", \"Topic4\", \"Topic4\", \"Topic4\", \"Topic4\", \"Topic4\", \"Topic4\", \"Topic4\", \"Topic4\", \"Topic4\", \"Topic4\", \"Topic4\", \"Topic4\", \"Topic4\", \"Topic4\", \"Topic4\", \"Topic4\"], \"logprob\": [30.0, 29.0, 28.0, 27.0, 26.0, 25.0, 24.0, 23.0, 22.0, 21.0, 20.0, 19.0, 18.0, 17.0, 16.0, 15.0, 14.0, 13.0, 12.0, 11.0, 10.0, 9.0, 8.0, 7.0, 6.0, 5.0, 4.0, 3.0, 2.0, 1.0, -6.2584, -5.7251, -6.4468, -6.4591, -6.7099, -6.8796, -6.7087, -7.0392, -7.0595, -6.696, -7.0148, -6.8847, -6.4734, -6.0577, -6.0359, -7.2628, -7.3397, -7.3113, -7.3381, -7.1408, -7.4483, -7.489, -7.4191, -7.4047, -7.4388, -7.5445, -7.4811, -6.6695, -7.5775, -7.5115, -5.4808, -6.6038, -6.6484, -5.0435, -6.8397, -4.6539, -6.5207, -6.1689, -6.7648, -6.0963, -5.5097, -6.3805, -6.6557, -6.5646, -5.3802, -6.2948, -6.8134, -4.2526, -3.7442, -5.1786, -4.6076, -5.9609, -2.5861, -3.1791, -4.9141, -4.8974, -2.4189, -5.9208, -4.4011, -5.5174, -5.0862, -5.1572, -4.9464, -5.4051, -5.4813, -5.1447, -4.7399, -5.3651, -5.1013, -4.8158, -4.1685, -5.3984, -5.588, -5.3629, -5.1806, -5.8696, -5.9839, -6.1197, -5.3995, -6.1676, -6.281, -5.7095, -6.3166, -6.2917, -5.6814, -6.3692, -6.4599, -6.5106, -6.5238, -6.575, -6.6677, -6.7072, -6.6302, -6.4475, -6.8912, -6.4819, -4.7034, -6.8381, -6.8623, -6.9575, -6.7452, -6.9557, -6.2894, -6.8414, -7.0058, -4.1872, -5.3202, -5.3856, -6.007, -5.8311, -6.0503, -5.9984, -6.2198, -5.4925, -5.3338, -5.8177, -6.349, -5.1598, -5.4777, -5.9512, -5.3792, -5.6796, -5.6889, -3.9182, -2.5276, -3.3932, -2.8325, -5.5199, -5.5594, -4.7317, -4.4551, -3.6856, -5.1955, -4.9913, -5.8055, -5.3796, -5.7622, -5.1537, -4.9869, -4.7924, -5.0339, -4.9112, -5.3496, -5.5107, -5.49, -5.361, -5.7392, -5.9644, -6.1609, -6.1588, -6.1254, -5.8992, -6.3633, -6.5767, -6.6311, -6.7483, -6.5558, -5.556, -6.929, -6.8878, -6.7029, -6.8214, -6.9492, -6.9032, -6.8879, -6.7772, -7.1118, -7.0965, -5.4619, -7.194, -7.169, -6.7876, -7.2288, -7.2002, -7.2032, -7.0777, -4.1619, -5.6748, -6.17, -6.0525, -6.7562, -4.9628, -6.0081, -6.69, -4.3687, -5.4888, -4.4118, -3.0896, -6.1673, -6.3295, -5.5357, -6.5151, -4.8681, -6.5446, -5.4621, -3.2917, -3.192, -5.7484, -5.8582, -4.8329, -5.4314, -5.3131, -4.9855, -5.8358, -5.3258, -4.6961, -4.8205, -2.921, -3.2007, -4.594, -4.0212, -4.9908, -4.0034, -5.3478, -5.4011, -5.2814, -4.8037, -5.3672, -5.4656, -5.3557, -5.4296, -5.4298, -5.4745, -5.5462, -5.9075, -6.1603, -5.3087, -6.2684, -6.0791, -6.4025, -6.3551, -5.556, -6.3846, -6.771, -5.9931, -6.567, -6.1125, -6.7333, -5.2955, -6.7749, -6.1321, -6.9706, -6.8769, -6.961, -6.8918, -6.9321, -5.6902, -6.9491, -6.4941, -6.9115, -7.0834, -7.1663, -5.7194, -5.799, -5.6906, -5.9038, -5.8863, -4.0724, -6.3161, -4.8767, -6.7585, -4.0775, -5.0446, -6.4701, -4.9854, -5.8518, -4.7821, -4.8981, -5.9091, -4.2427, -4.187, -3.6392, -5.3587, -3.4726, -2.8112, -5.4535, -4.9871, -5.3259, -3.3888, -4.7695, -3.9645, -5.5554, -4.5964, -5.0196, -4.7639, -4.808, -5.1743, -5.1967, -5.2862, -5.3832], \"loglift\": [30.0, 29.0, 28.0, 27.0, 26.0, 25.0, 24.0, 23.0, 22.0, 21.0, 20.0, 19.0, 18.0, 17.0, 16.0, 15.0, 14.0, 13.0, 12.0, 11.0, 10.0, 9.0, 8.0, 7.0, 6.0, 5.0, 4.0, 3.0, 2.0, 1.0, 1.134, 1.1337, 1.1328, 1.131, 1.1307, 1.1306, 1.1303, 1.1288, 1.1286, 1.1284, 1.1278, 1.1269, 1.1267, 1.1266, 1.1264, 1.1264, 1.1263, 1.1262, 1.1253, 1.1249, 1.1247, 1.1245, 1.1244, 1.1239, 1.1237, 1.1235, 1.1231, 1.1228, 1.1228, 1.1225, 1.1205, 1.1194, 1.1175, 1.101, 1.1178, 1.0911, 1.1145, 1.1045, 1.1163, 1.1019, 1.0784, 1.1047, 1.1101, 1.1053, 1.0153, 1.0759, 1.1125, 0.8362, 0.6736, 0.8862, 0.7634, 0.9759, 0.2937, 0.3968, 0.7428, 0.7351, 0.1803, 0.9332, 0.4723, 0.791, 0.6266, 0.5819, 0.4806, 0.6544, 0.6775, 0.4882, 0.2513, 0.5844, 0.3391, 0.0755, -0.4556, 0.4453, 0.6257, 0.1853, -0.6344, 1.1691, 1.1687, 1.1687, 1.1682, 1.1682, 1.1681, 1.168, 1.1679, 1.1677, 1.1675, 1.1672, 1.167, 1.1664, 1.1661, 1.166, 1.1658, 1.1655, 1.1653, 1.1651, 1.1647, 1.1646, 1.1644, 1.1641, 1.164, 1.1638, 1.1637, 1.1636, 1.1636, 1.1634, 1.1633, 1.1526, 1.1621, 1.1518, 1.1566, 1.1548, 1.1543, 1.1513, 1.1533, 1.1297, 1.1075, 1.1205, 1.1461, 0.9868, 1.0282, 1.0789, 0.9451, 1.0061, 0.9927, 0.4806, 0.0716, 0.3198, 0.0473, 0.9218, 0.911, 0.5651, 0.4362, -0.1097, 0.6776, 0.4251, 0.9974, 0.628, 0.9587, 0.2171, 0.0043, -0.3987, -0.1606, -0.3949, 0.0774, 0.3803, 0.1242, -0.9432, 1.6778, 1.6765, 1.6755, 1.6753, 1.675, 1.6728, 1.6726, 1.6717, 1.6712, 1.6707, 1.67, 1.6699, 1.6687, 1.6687, 1.6682, 1.6678, 1.6674, 1.6672, 1.6663, 1.6658, 1.6657, 1.6652, 1.6642, 1.6641, 1.664, 1.6638, 1.6637, 1.6636, 1.663, 1.663, 1.6527, 1.6511, 1.6556, 1.6512, 1.6582, 1.6065, 1.6342, 1.654, 1.5719, 1.5999, 1.5382, 1.4567, 1.6264, 1.6359, 1.5851, 1.6466, 1.5389, 1.6462, 1.5126, 1.2247, 1.2017, 1.5394, 1.5155, 1.2962, 1.4203, 1.3812, 1.1691, 1.4804, 1.2059, 0.8521, 0.8732, -0.3218, -0.3209, 0.3972, -0.3083, 0.6421, -0.4276, 0.8822, 0.9409, 0.7262, -0.3859, 0.6336, 1.0184, -0.1155, 0.3095, -1.031, 1.6906, 1.6895, 1.6885, 1.6874, 1.687, 1.6861, 1.686, 1.6857, 1.6854, 1.6851, 1.6843, 1.6823, 1.682, 1.6819, 1.6817, 1.6817, 1.6808, 1.6799, 1.6797, 1.6797, 1.6795, 1.6789, 1.6785, 1.6784, 1.6782, 1.678, 1.678, 1.6774, 1.6765, 1.6764, 1.6738, 1.6741, 1.672, 1.6728, 1.6726, 1.6374, 1.6711, 1.6291, 1.6757, 1.5542, 1.5828, 1.6613, 1.5434, 1.6054, 1.4766, 1.4885, 1.5662, 1.1282, 1.0532, 0.7596, 1.3212, 0.2404, -0.212, 1.2963, 0.9038, 1.1425, -0.5089, 0.5273, -0.3887, 1.2753, -0.2027, 0.4208, -0.2475, -0.3902, 0.4399, 0.2197, -0.4128, -0.4919]}, \"token.table\": {\"Topic\": [1, 2, 3, 4, 2, 2, 3, 1, 2, 3, 4, 2, 4, 1, 2, 3, 4, 1, 2, 1, 2, 3, 4, 1, 2, 4, 1, 2, 4, 1, 3, 4, 1, 4, 2, 3, 1, 2, 1, 2, 3, 3, 3, 4, 2, 4, 2, 3, 2, 4, 2, 4, 4, 1, 2, 3, 4, 1, 1, 2, 4, 1, 2, 3, 4, 2, 1, 2, 3, 4, 1, 2, 3, 2, 2, 4, 1, 2, 3, 4, 3, 4, 1, 1, 2, 3, 4, 1, 2, 3, 4, 1, 2, 4, 1, 2, 1, 3, 4, 2, 2, 3, 4, 3, 1, 2, 3, 4, 1, 2, 3, 4, 1, 4, 1, 2, 3, 4, 1, 2, 3, 2, 4, 1, 2, 3, 4, 1, 2, 3, 4, 1, 2, 3, 4, 1, 2, 3, 2, 4, 2, 4, 2, 2, 2, 3, 1, 2, 4, 1, 2, 3, 4, 1, 2, 3, 4, 1, 2, 4, 1, 2, 4, 1, 3, 1, 3, 2, 1, 2, 3, 4, 1, 1, 2, 3, 4, 2, 3, 4, 1, 4, 1, 2, 1, 2, 1, 3, 4, 1, 2, 3, 4, 1, 2, 3, 4, 2, 1, 2, 3, 1, 2, 3, 4, 2, 3, 1, 2, 3, 4, 1, 2, 3, 1, 2, 2, 1, 2, 1, 2, 3, 4, 1, 2, 4, 2, 3, 4, 2, 3, 4, 1, 2, 3, 4, 1, 2, 1, 2, 3, 4, 3, 2, 3, 3, 4, 1, 1, 1, 2, 3, 3, 1, 4, 1, 1, 2, 2, 3, 1, 1, 2, 4, 1, 2, 3, 4, 1, 2, 1, 2, 3, 4, 3, 2, 3, 2, 4, 2, 1, 2, 3, 4, 4, 1, 2, 3, 4, 1, 2, 1, 1, 2, 3, 4, 1, 3, 1, 2, 3, 4, 1, 2, 3, 4, 1, 2, 3, 4, 1, 2, 3, 4, 1, 2, 3, 4, 1, 2, 3, 4, 1, 2, 3, 4, 1, 2, 3, 4, 1, 2, 4, 1, 2, 3, 2, 1, 2, 2, 3, 3, 1, 2, 3, 1, 2, 3, 4, 3, 1, 2, 3, 4, 1, 2, 3, 1, 2, 3, 4, 1, 2, 3, 4, 1, 2, 3, 4, 1, 2, 1, 2, 3, 4, 1, 2, 3, 2, 1, 1, 2, 1, 1, 2, 3, 4, 1, 2, 3, 1, 2, 3, 1, 2, 4, 1, 2, 3, 2, 3, 1, 2, 3, 4, 1, 2, 3, 4, 1, 2, 3, 4, 2, 4, 1, 3, 1, 2, 3, 2, 4, 2, 1, 2, 4, 1, 2, 3, 4, 3, 1, 2, 3, 4, 2, 4, 1, 3, 4, 3, 3, 2, 3, 4, 1, 2, 3, 1, 2, 3, 4, 3, 4, 4, 1, 2, 3, 4, 1, 2, 3, 4, 2, 1, 2, 3, 4, 1, 3, 4, 1, 2, 3, 4, 1, 2, 3, 4, 3, 2, 1, 3, 4, 1, 2, 3, 4, 1, 2, 3, 4, 4, 1, 2, 1, 2, 3, 4, 4, 4, 1, 1, 2, 3, 4, 2, 3, 1, 2, 4, 1, 2, 3, 4, 1, 2, 3, 4, 1, 1, 2, 3, 4, 3, 3, 4, 2, 3, 4, 1, 2, 3, 1, 2, 3, 4, 1, 2, 3, 4, 1, 2, 3, 4, 1, 2, 3, 4, 1, 2, 3, 4, 4, 1, 1, 2, 3, 4, 1, 2, 3, 4, 1, 2, 3, 4, 2, 3, 4, 1, 2, 3, 4, 1, 2, 4, 4, 2, 3, 4, 1, 2, 3, 4, 1, 2, 3, 4, 1, 2, 3, 4, 2], \"Freq\": [0.014822861238848517, 0.20868263469594578, 0.6330233682002366, 0.14357830298021898, 0.9940226658405569, 0.014871578437448775, 0.9815241768716192, 0.14386284475809805, 0.16364398591233653, 0.16604169999163815, 0.5268976689265341, 0.9917419817094043, 0.005479237468007758, 0.023396252066913432, 0.2077381502205061, 0.6188437222534136, 0.15014737590194993, 0.9815647013445008, 0.014985720631213752, 0.09024335230223225, 0.7691194798485703, 0.0020509852795961873, 0.13741601373294457, 0.007844596839388875, 0.007844596839388875, 0.9884192017629981, 0.02550398511366015, 0.8650101617716401, 0.10839193673305564, 0.9760239906000162, 0.01758601784864894, 0.9874832240746466, 0.01124667951408755, 0.9897077972397044, 0.9964441146009889, 0.9889380325721605, 0.9752761310031607, 0.016815105706951047, 0.9953208575917978, 0.9982218705909545, 0.9888276242294365, 0.9734984085386857, 0.9927565877412334, 0.9919939578175403, 0.9867952826056642, 0.9896013031963165, 0.0761274634972384, 0.9211423083165846, 0.9943101658337451, 0.002994910138053449, 0.9118156039585845, 0.08615580509844893, 0.9909937708517046, 0.5735242514297109, 0.05231804703231442, 0.2536931714585812, 0.12043022147061055, 0.9880250086957058, 0.006842172772164904, 0.006842172772164904, 0.9852728791917462, 0.020021451352379465, 0.8409009567999375, 0.04004290270475893, 0.10010725676189733, 0.9921862850842091, 0.2858484486667598, 0.21320709372504196, 0.4452820718505301, 0.05566025898131626, 0.9959109972887302, 0.9957189435847732, 0.9946382624400653, 0.9951958605116655, 0.9830246227620849, 0.01282206029689676, 0.8849516863885967, 0.03615931621802868, 0.04377180384287683, 0.03615931621802868, 0.9954443703590415, 0.9848447401595841, 0.9907711770641959, 0.0016598506102100377, 0.15768580796995357, 0.03651671342462083, 0.8050275459518682, 0.004774817478480573, 0.9573509044353549, 0.0023874087392402863, 0.0358111310886043, 0.0020757593306367627, 0.9901372007137359, 0.00830303732254705, 0.9902224981591858, 0.006347580116405037, 0.07019430020114988, 0.928376228466821, 0.0022643322645532218, 0.9939721281402071, 0.05502435174770226, 0.02751217587385113, 0.9134042390118575, 0.9911550867114416, 0.0067920100593794755, 0.14263221124696898, 0.8456052523927448, 0.0067920100593794755, 0.5180440495887738, 0.3345249581026531, 0.14305818942618856, 0.004335096649278442, 0.9949077633371206, 0.9964304723695656, 0.011918969433930556, 0.980666318425064, 0.00529731974841358, 0.00264865987420679, 0.9639585316984536, 0.035537641721601974, 0.0014807350717334156, 0.9975208233440789, 0.9940813381920534, 0.146728016161757, 0.6094856055949908, 0.014672801616175702, 0.22912144062182058, 0.9386186649105176, 0.005046336908121062, 0.010092673816242124, 0.04541703217308956, 0.9950579526014446, 0.14716184114745348, 0.7688455374234304, 0.08108917777512743, 0.9739495252921565, 0.022475758275972844, 0.9917810881826593, 0.015484197859561934, 0.9806658644389225, 0.18485819827534117, 0.8148851189280345, 0.9930226435037031, 0.9946685191121246, 0.014331550319852575, 0.974545421749975, 0.005590441632835135, 0.01118088326567027, 0.9783272857461485, 0.5997586142527764, 0.06822650902875499, 0.3220925891357503, 0.011106641004681044, 0.02798371513655039, 0.84714337640648, 0.08395114540965117, 0.0407035856531642, 0.9660902737962467, 0.02747176134017763, 0.004578626890029605, 0.9819579848674125, 0.016365966414456874, 0.9984158194038179, 0.006171710459559474, 0.9936453839890754, 0.0281609284854164, 0.9715520327468659, 0.9941480128368314, 0.4496087751355039, 0.1149651102545181, 0.15523951193603716, 0.27972402622436887, 0.9787340291561002, 0.4997978258278917, 0.3890969915984683, 0.0613786803648288, 0.04932215386459457, 0.03851831403798897, 0.9475505253345287, 0.015407325615195588, 0.9918078368489783, 0.976454880629535, 0.9866352465178294, 0.009578982975901255, 0.9930306291856867, 0.007944245033485495, 0.9856432416022474, 0.9880565966788153, 0.9958710404544857, 0.005603031011260437, 0.03361818606756262, 0.08404546516890656, 0.8796758687678886, 0.02790450614506077, 0.7793329930513401, 0.04783629624867561, 0.14350888874602682, 0.993378315995649, 0.03602327302486621, 0.9497044706555637, 0.013099372009042258, 0.010872249292467285, 0.11742029235864669, 0.010872249292467285, 0.861082143963409, 0.13283729757020385, 0.8663302015448077, 0.6737841016827139, 0.14275857485045354, 0.17094657370627558, 0.011820773713731822, 0.02648587473179691, 0.019864406048847684, 0.9534914903446888, 0.9804744346027779, 0.9954800237291277, 0.9939294979206338, 0.9846796206172237, 0.00769280953607206, 0.028348948245591723, 0.3467294439268526, 0.6214961730764339, 0.004361376653167957, 0.007707067389866511, 0.007707067389866511, 0.9865046259029134, 0.011458800482673758, 0.9625392405445957, 0.022917600965347517, 0.1254135485567956, 0.8686049474118807, 0.004644946242844282, 0.3454688298354622, 0.4790895767485662, 0.06300471927231807, 0.11247822366735977, 0.9929870623468681, 0.006284728242701697, 0.5999805126260209, 0.22306967777121292, 0.0663439989923004, 0.11057333165383398, 0.9823870212610838, 0.01580506669128044, 0.9838654015322074, 0.988366079884467, 0.989645917749246, 0.9914637888115626, 0.9930030903870526, 0.9951399376528771, 0.003024741451832453, 0.9882279065735302, 0.9933888013909724, 0.018273572725942187, 0.9806817362922308, 0.9946756519796388, 0.0030815352781141734, 0.9953358948308781, 0.9946429911492409, 0.9969372882614058, 0.9793203779783987, 0.9665147573748587, 0.013612883906688151, 0.013612883906688151, 0.03488715566818126, 0.5448739403448674, 0.10846733853198175, 0.31144715332867273, 0.002260741361847832, 0.9969869405748939, 0.003401750583364199, 0.003401750583364199, 0.006803501166728398, 0.9865076691756177, 0.9937114532100076, 0.013357070804749184, 0.9750661687466905, 0.9941396630402357, 0.9797246504691111, 0.9898313235507302, 0.11462605940979387, 0.15147014993437047, 0.15556393777043453, 0.5751771909670014, 0.9925328807623724, 0.02125122229670279, 0.02125122229670279, 0.02125122229670279, 0.9371789032845932, 0.022858978231065103, 0.9715065748202669, 0.9920765526634983, 0.01084987255402431, 0.3037964315126807, 0.013562340692530388, 0.6726920983495073, 0.987610580161764, 0.9826774349475161, 0.21948086337059827, 0.47399287431500536, 0.07792643031724825, 0.22877484129834347, 0.049808811414800466, 0.9364056545982488, 0.009961762282960094, 0.0019923524565920187, 0.6681722910563033, 0.1641591950138328, 0.15883511301338418, 0.00887347000074772, 0.316266208555376, 0.3502452226976891, 0.047919122508390304, 0.28577222150458215, 0.7064546009020571, 0.006977329391625256, 0.21106421409666398, 0.07675062330787781, 0.5219497584806825, 0.12161074304736989, 0.3532925235974687, 0.0026630089718402165, 0.026396204342475724, 0.002399654940225066, 0.07678895808720211, 0.8950712927039496, 0.06175528411686574, 0.20585094705621915, 0.07351819537722112, 0.6587230305799012, 0.9835154276129179, 0.00717894472710159, 0.01435788945420318, 0.12920406899354167, 0.0036567189337794815, 0.8666423873057371, 0.9895288621485512, 0.9884014093242495, 0.00837628312986652, 0.9915500186841704, 0.9907150843172516, 0.9801087072289393, 0.012307270382340587, 0.9845816305872469, 0.004102423460780195, 0.13115232294909226, 0.797547909825561, 0.023040272950516208, 0.04962520327803491, 0.9882711591709648, 0.009146564027852317, 0.03658625611140927, 0.951242658896641, 0.9833278646313687, 0.0430093814474969, 0.13858578466415666, 0.8171782475024411, 0.012475831619217243, 0.45328854883155983, 0.5156677069276461, 0.018713747428825863, 0.06074109556938469, 0.07592636946173086, 0.8453135800072702, 0.015185273892346172, 0.5137795433792947, 0.26374293455606473, 0.1005130553741223, 0.12169555877941254, 0.9795557785206086, 0.01972259956752903, 0.6308190494149074, 0.018023401411854496, 0.3484524272958536, 0.003003900235309083, 0.9641140483587147, 0.016988793803677793, 0.016988793803677793, 0.9912986069753874, 0.993682138115933, 0.1621464281863843, 0.8360675203360441, 0.9799228932003731, 0.6283975244663675, 0.12062282741223651, 0.12641693702592474, 0.12430998807549265, 0.9676178677135044, 0.028292920108582, 0.0056585840217164, 0.002193249994676679, 0.9803827476204756, 0.017545999957413433, 0.9874136970474351, 0.008194304539812739, 0.0040971522699063696, 0.8157862476633995, 0.04515422035037266, 0.141483223764501, 0.02895322609963473, 0.9699330743377634, 0.47650586951893925, 0.27746055036289746, 0.12131097273535273, 0.12460191586849138, 0.2031658279969428, 0.4263749215361849, 0.13665862869749515, 0.2337513306101917, 0.002129291268177554, 0.008517165072710216, 0.9709568182889647, 0.01809897577950921, 0.0200241800453482, 0.9761787772107248, 0.01474586495573161, 0.9879729520340178, 0.9542519790473101, 0.0446840156681883, 0.0009929781259597399, 0.9812847782442512, 0.01517450688006574, 0.9940320977005962, 0.006199991074980568, 0.012399982149961136, 0.9795985898469297, 0.5209548408869153, 0.027418675836153438, 0.4499888563698123, 0.0032257265689592278, 0.9707520670179565, 0.17349454806236725, 0.21537254242224899, 0.598257062284025, 0.0119651412456805, 0.01461806588665417, 0.9794104144058293, 0.9826040050652454, 0.01869698189331668, 0.9815915493991256, 0.9811535655173839, 0.9849817721815177, 0.9924668811856314, 0.002245400183677899, 0.005613500459194748, 0.07861563973601075, 0.01572312794720215, 0.9080106389509242, 0.010303264415971444, 0.9822445409892776, 0.003434421471990481, 0.003434421471990481, 0.9731559132454881, 0.9837788593959411, 0.9927353975703174, 0.1231597887684782, 0.8309576109680457, 0.008903117260371919, 0.037096321918216324, 0.6160640511797614, 0.09655750029528268, 0.2787927825427176, 0.009519753550239138, 0.9920957976358823, 0.6872579939805927, 0.028692679669169874, 0.16395816953811357, 0.11955283195487447, 0.004432845539853489, 0.004432845539853489, 0.9929574009271814, 0.22835603341955155, 0.02309218315478611, 0.7415156590814651, 0.007697394384928703, 0.7780041809832582, 0.11212011044046954, 0.0888756973003722, 0.021877094720091618, 0.9912868813267698, 0.9981593449815849, 0.011130254205026162, 0.9683321158372761, 0.022260508410052324, 0.5750618201517037, 0.12914523927135718, 0.14863886029344883, 0.1474205089795681, 0.85018398178104, 0.13079753565862154, 0.009809815174396616, 0.006539876782931078, 0.9952117597751247, 0.9800694161136771, 0.01814943363173476, 0.03415353513345102, 0.3845688056026585, 0.013661414053380408, 0.567631753917956, 0.9881245430998217, 0.989326892535313, 0.9933215043604257, 0.059748392989384815, 0.4527089776503388, 0.03332121916715692, 0.453857985207827, 0.9791463812958007, 0.02023029713421076, 0.02108030031175774, 0.8089565244637033, 0.17127744003303164, 0.4298521355480075, 0.32468036403132605, 0.13498646952060356, 0.11048976319100536, 0.040054363621104094, 0.5008087528883854, 0.06641271903628228, 0.39279117873598857, 0.9817755700017183, 0.03228209614294339, 0.5797864467272632, 0.3848025860238852, 0.002582567691435471, 0.9864572263815059, 0.9867869067822369, 0.008732627493648115, 0.007953338540346024, 0.970307301922215, 0.015906677080692048, 0.4121429091302392, 0.31120995179222144, 0.27663106825975237, 0.10462724731053659, 0.02128011809705829, 0.004433357936887144, 0.8698248272172576, 0.0034682928313357233, 0.0034682928313357233, 0.0034682928313357233, 0.9919317497620168, 0.7393038341147609, 0.16074062456014312, 0.07058162039980644, 0.028850881331307743, 0.18664048124763577, 0.10935965698103658, 0.679488002042174, 0.02478818891570163, 0.015338723944423566, 0.015338723944423566, 0.023966756163161823, 0.9452488630751023, 0.9957012906019876, 0.9942455014480717, 0.05058469201122737, 0.13152019922919114, 0.12899096462862977, 0.6879518113526921, 0.9413256176650664, 0.05537209515676861, 0.0023071706315320253, 0.9919551877006938, 0.38382584689382143, 0.33263197419522444, 0.13486465963002678, 0.14871008096086602, 0.01079820440658841, 0.01079820440658841, 0.9718383965929568, 0.16980259815041995, 0.02006485727703375, 0.7984016343368951, 0.011679543788124124, 0.005034568592533934, 0.010069137185067868, 0.986775444136651, 0.9927958712282382, 0.4185575721321032, 0.47628965104687604, 0.1046393930330258, 0.06158302411330507, 0.039847839132138574, 0.8959726253347522, 0.003622530830194416, 0.38579476155473863, 0.08482590951732097, 0.43636405376698767, 0.09298224697090952, 0.08208054902921576, 0.2706093100806957, 0.35012484195274846, 0.29625948165232563, 0.9907784576159037], \"Term\": [\"''\", \"''\", \"''\", \"''\", \"'re\", \"'ve\", \"'ve\", \"...\", \"...\", \"...\", \"...\", \"24\", \"24\", \"``\", \"``\", \"``\", \"``\", \"account\", \"account\", \"accus\", \"accus\", \"accus\", \"accus\", \"achiev\", \"achiev\", \"achiev\", \"advanc\", \"advanc\", \"advanc\", \"advisor\", \"advisor\", \"afp\", \"africa\", \"africa\", \"agenc\", \"agricultur\", \"allow\", \"allow\", \"america\", \"amid\", \"ankara\", \"anthoni\", \"anti-war\", \"approach\", \"assembl\", \"attrit\", \"avoid\", \"avoid\", \"began\", \"began\", \"begin\", \"begin\", \"berlin\", \"biden\", \"biden\", \"biden\", \"biden\", \"biolog\", \"black\", \"black\", \"black\", \"border\", \"border\", \"border\", \"border\", \"brutal\", \"call\", \"call\", \"call\", \"call\", \"capabl\", \"capit\", \"catastroph\", \"chancellor\", \"children\", \"children\", \"china\", \"china\", \"china\", \"china\", \"choos\", \"chose\", \"chosen\", \"citi\", \"citi\", \"citi\", \"citi\", \"civilian\", \"civilian\", \"civilian\", \"civilian\", \"commit\", \"commit\", \"commit\", \"compani\", \"compani\", \"consequ\", \"consequ\", \"consequ\", \"consid\", \"control\", \"control\", \"control\", \"coordin\", \"council\", \"council\", \"council\", \"council\", \"countri\", \"countri\", \"countri\", \"countri\", \"cours\", \"coverag\", \"crime\", \"crime\", \"crime\", \"crime\", \"crisi\", \"crisi\", \"crisi\", \"cross\", \"cyber\", \"day\", \"day\", \"day\", \"day\", \"decis\", \"decis\", \"decis\", \"decis\", \"deleg\", \"demand\", \"demand\", \"demand\", \"deputi\", \"deputi\", \"describ\", \"destruct\", \"destruct\", \"develop\", \"develop\", \"diplomaci\", \"displac\", \"disrupt\", \"disrupt\", \"donetsk\", \"donetsk\", \"donetsk\", \"due\", \"due\", \"due\", \"due\", \"dure\", \"dure\", \"dure\", \"dure\", \"eastern\", \"eastern\", \"eastern\", \"econom\", \"econom\", \"effort\", \"egypt\", \"egypt\", \"egyptian\", \"egyptian\", \"emerg\", \"end\", \"end\", \"end\", \"end\", \"estim\", \"european\", \"european\", \"european\", \"european\", \"everyth\", \"everyth\", \"everyth\", \"expans\", \"exploit\", \"express\", \"express\", \"fall\", \"fall\", \"fallout\", \"famin\", \"fate\", \"field\", \"field\", \"field\", \"field\", \"first\", \"first\", \"first\", \"first\", \"fled\", \"flee\", \"flee\", \"flee\", \"follow\", \"follow\", \"follow\", \"follow\", \"food\", \"food\", \"foreign\", \"foreign\", \"foreign\", \"foreign\", \"forward\", \"forward\", \"forward\", \"free\", \"friday\", \"fuel\", \"fund\", \"fund\", \"gener\", \"gener\", \"gener\", \"gener\", \"goal\", \"goal\", \"goal\", \"grow\", \"grow\", \"grow\", \"guterr\", \"guterr\", \"guterr\", \"ha\", \"ha\", \"ha\", \"ha\", \"happen\", \"happen\", \"hi\", \"hi\", \"hi\", \"hi\", \"highlight\", \"human\", \"human\", \"hurt\", \"iii\", \"imf\", \"immin\", \"impos\", \"impos\", \"insist\", \"intensifi\", \"interest\", \"interest\", \"intervent\", \"investig\", \"investig\", \"island\", \"isra\", \"jet\", \"join\", \"join\", \"join\", \"kiev\", \"kiev\", \"kiev\", \"kiev\", \"kill\", \"kill\", \"latest\", \"latest\", \"latest\", \"latest\", \"lavrov\", \"led\", \"led\", \"life\", \"light\", \"link\", \"live\", \"live\", \"live\", \"live\", \"machin\", \"macron\", \"macron\", \"macron\", \"macron\", \"major\", \"major\", \"map\", \"mariupol\", \"mariupol\", \"mariupol\", \"mariupol\", \"mass\", \"measur\", \"militari\", \"militari\", \"militari\", \"militari\", \"million\", \"million\", \"million\", \"million\", \"minist\", \"minist\", \"minist\", \"minist\", \"moscow\", \"moscow\", \"moscow\", \"moscow\", \"must\", \"must\", \"must\", \"must\", \"nato\", \"nato\", \"nato\", \"nato\", \"negoti\", \"negoti\", \"negoti\", \"negoti\", \"news\", \"news\", \"news\", \"news\", \"next\", \"next\", \"next\", \"nuclear\", \"nuclear\", \"nuclear\", \"odessa\", \"option\", \"option\", \"organ\", \"pain\", \"palestinian\", \"pentagon\", \"pentagon\", \"pentagon\", \"peopl\", \"peopl\", \"peopl\", \"peopl\", \"pictur\", \"plant\", \"plant\", \"plant\", \"play\", \"posit\", \"posit\", \"posit\", \"possibl\", \"possibl\", \"possibl\", \"possibl\", \"power\", \"power\", \"power\", \"power\", \"presid\", \"presid\", \"presid\", \"presid\", \"pressur\", \"pressur\", \"price\", \"price\", \"price\", \"price\", \"prime\", \"prime\", \"prime\", \"prosecutor\", \"protect\", \"protest\", \"protest\", \"provoc\", \"putin\", \"putin\", \"putin\", \"putin\", \"rapidli\", \"rapidli\", \"rapidli\", \"refuge\", \"refuge\", \"refuge\", \"refus\", \"refus\", \"refus\", \"respons\", \"respons\", \"respons\", \"right\", \"right\", \"russia\", \"russia\", \"russia\", \"russia\", \"russian\", \"russian\", \"russian\", \"russian\", \"russian-ukrainian\", \"russian-ukrainian\", \"russian-ukrainian\", \"russian-ukrainian\", \"russian_ukrainian_war\", \"russian_ukrainian_war\", \"safe\", \"safe\", \"sanction\", \"sanction\", \"sanction\", \"scenario\", \"scenario\", \"schultz\", \"sea\", \"sea\", \"sea\", \"secretari\", \"secretari\", \"secretari\", \"secretari\", \"secretary-gener\", \"secur\", \"secur\", \"secur\", \"secur\", \"seem\", \"seem\", \"senat\", \"separatist\", \"separatist\", \"sergei\", \"session\", \"sinc\", \"sinc\", \"sinc\", \"situat\", \"situat\", \"situat\", \"soldier\", \"soldier\", \"soldier\", \"soldier\", \"sound\", \"speak\", \"stanc\", \"start\", \"start\", \"start\", \"start\", \"state\", \"state\", \"state\", \"state\", \"step\", \"stop\", \"stop\", \"stop\", \"stop\", \"street\", \"street\", \"street\", \"suppli\", \"suppli\", \"suppli\", \"suppli\", \"support\", \"support\", \"support\", \"support\", \"suspend\", \"syrian\", \"terror\", \"terror\", \"terror\", \"thi\", \"thi\", \"thi\", \"thi\", \"threaten\", \"threaten\", \"threaten\", \"threaten\", \"thursday\", \"top\", \"top\", \"toward\", \"toward\", \"toward\", \"toward\", \"town\", \"tragedi\", \"trap\", \"troop\", \"troop\", \"troop\", \"troop\", \"turkish\", \"turkish\", \"two\", \"two\", \"two\", \"ukrain\", \"ukrain\", \"ukrain\", \"ukrain\", \"ukrainian\", \"ukrainian\", \"ukrainian\", \"ukrainian\", \"ukrainian-russian\", \"un\", \"un\", \"un\", \"un\", \"unjustifi\", \"updat\", \"updat\", \"urg\", \"urg\", \"urg\", \"urgent\", \"urgent\", \"urgent\", \"url_1\", \"url_1\", \"url_1\", \"url_1\", \"url_2\", \"url_2\", \"url_2\", \"url_2\", \"us\", \"us\", \"us\", \"us\", \"use\", \"use\", \"use\", \"use\", \"user_mention_1\", \"user_mention_1\", \"user_mention_1\", \"user_mention_1\", \"user_mention_2\", \"vehicl\", \"video\", \"video\", \"video\", \"video\", \"vladimir\", \"vladimir\", \"vladimir\", \"wall\", \"war\", \"war\", \"war\", \"war\", \"warehous\", \"warehous\", \"warehous\", \"warn\", \"warn\", \"warn\", \"warn\", \"warship\", \"warship\", \"warship\", \"wartim\", \"washington\", \"washington\", \"washington\", \"weapon\", \"weapon\", \"weapon\", \"weapon\", \"world\", \"world\", \"world\", \"world\", \"zelenski\", \"zelenski\", \"zelenski\", \"zelenski\", \"zelenskyy\"]}, \"R\": 30, \"lambda.step\": 0.01, \"plot.opts\": {\"xlab\": \"PC1\", \"ylab\": \"PC2\"}, \"topic.order\": [4, 1, 3, 2]};\n",
       "\n",
       "function LDAvis_load_lib(url, callback){\n",
       "  var s = document.createElement('script');\n",
       "  s.src = url;\n",
       "  s.async = true;\n",
       "  s.onreadystatechange = s.onload = callback;\n",
       "  s.onerror = function(){console.warn(\"failed to load library \" + url);};\n",
       "  document.getElementsByTagName(\"head\")[0].appendChild(s);\n",
       "}\n",
       "\n",
       "if(typeof(LDAvis) !== \"undefined\"){\n",
       "   // already loaded: just create the visualization\n",
       "   !function(LDAvis){\n",
       "       new LDAvis(\"#\" + \"ldavis_el20307266502514881725138689\", ldavis_el20307266502514881725138689_data);\n",
       "   }(LDAvis);\n",
       "}else if(typeof define === \"function\" && define.amd){\n",
       "   // require.js is available: use it to load d3/LDAvis\n",
       "   require.config({paths: {d3: \"https://d3js.org/d3.v5\"}});\n",
       "   require([\"d3\"], function(d3){\n",
       "      window.d3 = d3;\n",
       "      LDAvis_load_lib(\"https://cdn.jsdelivr.net/gh/bmabey/pyLDAvis@3.4.0/pyLDAvis/js/ldavis.v3.0.0.js\", function(){\n",
       "        new LDAvis(\"#\" + \"ldavis_el20307266502514881725138689\", ldavis_el20307266502514881725138689_data);\n",
       "      });\n",
       "    });\n",
       "}else{\n",
       "    // require.js not available: dynamically load d3 & LDAvis\n",
       "    LDAvis_load_lib(\"https://d3js.org/d3.v5.js\", function(){\n",
       "         LDAvis_load_lib(\"https://cdn.jsdelivr.net/gh/bmabey/pyLDAvis@3.4.0/pyLDAvis/js/ldavis.v3.0.0.js\", function(){\n",
       "                 new LDAvis(\"#\" + \"ldavis_el20307266502514881725138689\", ldavis_el20307266502514881725138689_data);\n",
       "            })\n",
       "         });\n",
       "}\n",
       "</script>"
      ],
      "text/plain": [
       "<IPython.core.display.HTML object>"
      ]
     },
     "execution_count": 30,
     "metadata": {},
     "output_type": "execute_result"
    }
   ],
   "source": [
    "import pyLDAvis\n",
    "import pyLDAvis.gensim_models\n",
    "\n",
    "lda_model = models.LdaModel(corpus, id2word=dictionary, num_topics=best_topic_num)\n",
    "lda_vis_data = pyLDAvis.gensim_models.prepare(lda_model, corpus, dictionary)\n",
    "\n",
    "# 显示可视化结果\n",
    "pyLDAvis.display(lda_vis_data)"
   ]
  },
  {
   "cell_type": "code",
   "execution_count": null,
   "id": "8136e38d",
   "metadata": {},
   "outputs": [],
   "source": []
  }
 ],
 "metadata": {
  "kernelspec": {
   "display_name": "Python 3 (ipykernel)",
   "language": "python",
   "name": "python3"
  },
  "language_info": {
   "codemirror_mode": {
    "name": "ipython",
    "version": 3
   },
   "file_extension": ".py",
   "mimetype": "text/x-python",
   "name": "python",
   "nbconvert_exporter": "python",
   "pygments_lexer": "ipython3",
   "version": "3.11.4"
  },
  "varInspector": {
   "cols": {
    "lenName": 16,
    "lenType": 16,
    "lenVar": 40
   },
   "kernels_config": {
    "python": {
     "delete_cmd_postfix": "",
     "delete_cmd_prefix": "del ",
     "library": "var_list.py",
     "varRefreshCmd": "print(var_dic_list())"
    },
    "r": {
     "delete_cmd_postfix": ") ",
     "delete_cmd_prefix": "rm(",
     "library": "var_list.r",
     "varRefreshCmd": "cat(var_dic_list()) "
    }
   },
   "types_to_exclude": [
    "module",
    "function",
    "builtin_function_or_method",
    "instance",
    "_Feature"
   ],
   "window_display": false
  }
 },
 "nbformat": 4,
 "nbformat_minor": 5
}
